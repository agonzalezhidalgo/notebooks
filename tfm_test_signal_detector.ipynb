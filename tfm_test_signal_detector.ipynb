{
 "cells": [
  {
   "cell_type": "code",
   "execution_count": 1,
   "metadata": {},
   "outputs": [
    {
     "name": "stdout",
     "output_type": "stream",
     "text": [
      "importing Jupyter notebook from tfm_generic_functions.ipynb\n"
     ]
    },
    {
     "name": "stderr",
     "output_type": "stream",
     "text": [
      "Using TensorFlow backend.\n"
     ]
    }
   ],
   "source": [
    "import import_ipynb\n",
    "import tfm_generic_functions as traffic\n",
    "\n",
    "# https://docs.python.org/3/library/os.html\n",
    "import os\n",
    "\n",
    "# http://scikit-image.org/docs/stable/api/api.html\n",
    "import skimage\n",
    "\n",
    "# https://docs.scipy.org/doc/numpy/reference/\n",
    "import numpy as np\n",
    "\n",
    "import keras\n",
    "\n",
    "from keras import models\n",
    "\n",
    "# Core Layers: https://keras.io/layers/core/\n",
    "# Convolution Layers: https://keras.io/layers/convolutional/\n",
    "from keras import layers\n",
    "\n",
    "# https://matplotlib.org/api/index.html\n",
    "import matplotlib\n",
    "\n",
    "# https://matplotlib.org/api/_as_gen/matplotlib.pyplot.html#module-matplotlib.pyplot\n",
    "import matplotlib.pyplot as plt"
   ]
  },
  {
   "cell_type": "code",
   "execution_count": 2,
   "metadata": {},
   "outputs": [],
   "source": [
    "IMG_SHAPE = (64, 64)\n",
    "ROOT_PATH = os.getcwd()"
   ]
  },
  {
   "cell_type": "code",
   "execution_count": 3,
   "metadata": {},
   "outputs": [],
   "source": [
    "def get_keras_model_detector(classes):\n",
    "    # IMPLEMENTACIÓN RED NEURONAL\n",
    "    # En Keras la envoltura para cualquier red neuronal se crea con la clase Sequential\n",
    "    model = models.Sequential()\n",
    "\n",
    "    model.add(layers.Conv2D(32, (5, 5),\n",
    "                            activation='relu', input_shape=(IMG_SHAPE[0], IMG_SHAPE[1], 3)))\n",
    "    model.add(layers.MaxPooling2D(2, 2))\n",
    "    model.add(layers.Dropout(0.2))\n",
    "\n",
    "    model.add(layers.Conv2D(64, (5, 5), activation='relu'))\n",
    "    model.add(layers.MaxPooling2D(2, 2))\n",
    "    model.add(layers.Dropout(0.2))\n",
    "    \n",
    "    model.add(layers.Conv2D(128, (5, 5), activation='relu'))\n",
    "    model.add(layers.MaxPooling2D(2, 2))\n",
    "    model.add(layers.Dropout(0.2))\n",
    "    \n",
    "    model.add(layers.MaxPooling2D(2, 2))\n",
    "    model.add(layers.Dropout(0.2))\n",
    "\n",
    "    model.add(layers.Flatten())\n",
    "    model.add(layers.Dense(classes, activation='softmax'))\n",
    "    return model"
   ]
  },
  {
   "cell_type": "code",
   "execution_count": 4,
   "metadata": {},
   "outputs": [],
   "source": [
    "def load_trained_model_detector(weights_path):\n",
    "    model = get_keras_model_detector(2)\n",
    "    model.load_weights(weights_path)\n",
    "    return model"
   ]
  },
  {
   "cell_type": "code",
   "execution_count": 5,
   "metadata": {},
   "outputs": [
    {
     "name": "stdout",
     "output_type": "stream",
     "text": [
      "WARNING:tensorflow:From /Users/togohi/traffic/lib/python3.6/site-packages/tensorflow/python/framework/op_def_library.py:263: colocate_with (from tensorflow.python.framework.ops) is deprecated and will be removed in a future version.\n",
      "Instructions for updating:\n",
      "Colocations handled automatically by placer.\n",
      "WARNING:tensorflow:From /Users/togohi/traffic/lib/python3.6/site-packages/keras/backend/tensorflow_backend.py:3445: calling dropout (from tensorflow.python.ops.nn_ops) with keep_prob is deprecated and will be removed in a future version.\n",
      "Instructions for updating:\n",
      "Please use `rate` instead of `keep_prob`. Rate should be set to `rate = 1 - keep_prob`.\n"
     ]
    }
   ],
   "source": [
    "model_detector = load_trained_model_detector(os.path.join(ROOT_PATH, \"model_64_64_gpu_detector.h5\"))\n",
    "model_detector.compile(loss = \"categorical_crossentropy\", optimizer = \"sgd\", metrics = ['accuracy'])"
   ]
  },
  {
   "cell_type": "code",
   "execution_count": 6,
   "metadata": {},
   "outputs": [],
   "source": [
    "images_test_path = [os.path.join(ROOT_PATH, \"images_test/bike_002.jpg\"),\n",
    "                    os.path.join(ROOT_PATH, \"images_test/bike_007.jpg\"),\n",
    "                    os.path.join(ROOT_PATH, \"images_test/pedestrian_008.jpg\")]"
   ]
  },
  {
   "cell_type": "code",
   "execution_count": 7,
   "metadata": {},
   "outputs": [],
   "source": [
    "def get_tiles(image, tile_shape, offset):\n",
    "    tiles = []\n",
    "    xx = tile_shape[0]\n",
    "    yy = tile_shape[1]\n",
    "    for x in range(0, image.shape[0]- xx, offset):\n",
    "        for y in range(0, image.shape[1] - yy, offset):\n",
    "            tile = image[x:x + xx, y:y + yy]\n",
    "            tiles.append(tile)\n",
    "    return tiles"
   ]
  },
  {
   "cell_type": "code",
   "execution_count": 8,
   "metadata": {},
   "outputs": [],
   "source": [
    "def get_normalized_image(image_path):\n",
    "    image_test = skimage.data.imread(image_path)\n",
    "    height = image_test.shape[0]\n",
    "    width = image_test.shape[1]\n",
    "    return skimage.transform.resize(image_test, (height, width), mode='constant')"
   ]
  },
  {
   "cell_type": "code",
   "execution_count": 9,
   "metadata": {
    "scrolled": false
   },
   "outputs": [
    {
     "name": "stdout",
     "output_type": "stream",
     "text": [
      "/Users/togohi/Downloads/traffic/images_test/bike_002.jpg - Detected traffic signs in 244 tiles\n",
      "/Users/togohi/Downloads/traffic/images_test/bike_007.jpg - Detected traffic signs in 625 tiles\n",
      "/Users/togohi/Downloads/traffic/images_test/pedestrian_008.jpg - Detected traffic signs in 847 tiles\n"
     ]
    }
   ],
   "source": [
    "for image_path in images_test_path:\n",
    "    image_test = get_normalized_image(image_path)\n",
    "    image_tiles = get_tiles(image_test, IMG_SHAPE, 1)\n",
    "    detected_tiles = []\n",
    "    for tile in image_tiles:\n",
    "        np_tile = np.expand_dims(tile, axis=0)\n",
    "        result = model_detector.predict_classes(np_tile)\n",
    "        if result == 1:\n",
    "            detected_tiles.append(tile)\n",
    "    print(\"{} - Detected traffic signs in {} tiles\".format(image_path, len(detected_tiles)))"
   ]
  }
 ],
 "metadata": {
  "kernelspec": {
   "display_name": "Python 3",
   "language": "python",
   "name": "python3"
  },
  "language_info": {
   "codemirror_mode": {
    "name": "ipython",
    "version": 3
   },
   "file_extension": ".py",
   "mimetype": "text/x-python",
   "name": "python",
   "nbconvert_exporter": "python",
   "pygments_lexer": "ipython3",
   "version": "3.6.5"
  }
 },
 "nbformat": 4,
 "nbformat_minor": 2
}
