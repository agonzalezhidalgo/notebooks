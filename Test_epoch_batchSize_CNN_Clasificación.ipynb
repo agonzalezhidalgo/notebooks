{
 "cells": [
  {
   "cell_type": "markdown",
   "metadata": {},
   "source": [
    "# Reconocimiento de señales de tráfico\n",
    "### Máster Universitario en Ingeniería computacional y matemática - Área de inteligencia artificial\n",
    "### Antonio González Hidalgo (agonzalezhidalgo@uoc.edu)\n",
    "\n",
    "Usando una red neuronal convolucional.\n",
    "\n",
    "Para la correcta funcionamiento de este notebook, el notebook debe de estar estructurado de la siguiente manera:\n",
    "\n",
    "- ./dataset\n",
    "- ./dataset/info.csv          Fichero que contiene los nombres de las señales correspondientes.\n",
    "- ./dataset/train/Images      Conjunto de imágenes que formarán el entrenamiento de la red neuronal.\n",
    "- ./dataset/test/info.csv.    Fichero que contiene las categórias de las imágenes de test.\n",
    "- ./dataset/test/Images       Conjunto de imágenes que constituirán el test."
   ]
  },
  {
   "cell_type": "markdown",
   "metadata": {},
   "source": [
    "Este notebook se ha ejecutado usando el dataset de _BelgiumTS_\n",
    "https://btsd.ethz.ch/shareddata/"
   ]
  },
  {
   "cell_type": "code",
   "execution_count": 1,
   "metadata": {},
   "outputs": [
    {
     "name": "stdout",
     "output_type": "stream",
     "text": [
      "importing Jupyter notebook from tfm_generic_functions.ipynb\n"
     ]
    },
    {
     "name": "stderr",
     "output_type": "stream",
     "text": [
      "Using TensorFlow backend.\n"
     ]
    }
   ],
   "source": [
    "import import_ipynb\n",
    "import tfm_generic_functions as traffic\n",
    "\n",
    "# https://docs.python.org/3/library/os.html\n",
    "import os\n",
    "\n",
    "# https://docs.scipy.org/doc/numpy/reference/\n",
    "import numpy as np\n",
    "\n",
    "# https://keras.io/models/model/\n",
    "import keras\n",
    "\n",
    "from keras import models\n",
    "\n",
    "# Core Layers: https://keras.io/layers/core/\n",
    "# Convolution Layers: https://keras.io/layers/convolutional/\n",
    "from keras import layers\n",
    "\n",
    "# https://keras.io/preprocessing/image/\n",
    "from keras.preprocessing.image import ImageDataGenerator\n",
    "\n",
    "# https://keras.io/callbacks/\n",
    "from keras.callbacks import ModelCheckpoint"
   ]
  },
  {
   "cell_type": "code",
   "execution_count": 2,
   "metadata": {},
   "outputs": [
    {
     "name": "stdout",
     "output_type": "stream",
     "text": [
      "Tamaño de las imágenes de entrada:  (64, 64)\n",
      "Vectorizando la entrada, sería de un tamaño:  4096\n"
     ]
    }
   ],
   "source": [
    "# Obtenemos el directorio actual como trabajo.\n",
    "ROOT_PATH = os.getcwd()\n",
    "\n",
    "# Establecemos la dimensión de las imágenes.\n",
    "IMG_SHAPE = (64, 64)\n",
    "\n",
    "# Configuramos la CNN\n",
    "EPOCHS = [20, 25, 30]\n",
    "BATCH_SIZES = [32, 64, 128]\n",
    "ACTIVATION = 'selu'\n",
    "OPTIMIZER = 'rmsprop'\n",
    "\n",
    "print(\"Tamaño de las imágenes de entrada: \", IMG_SHAPE)\n",
    "IMG_SHAPE_LEN = IMG_SHAPE[0] * IMG_SHAPE[1]\n",
    "print(\"Vectorizando la entrada, sería de un tamaño: \", IMG_SHAPE_LEN)\n",
    "\n",
    "# Obtenemos los paths de trabajo\n",
    "labels_path = os.path.join(ROOT_PATH, \"dataset_bel/labels.csv\")\n",
    "train_path = os.path.join(ROOT_PATH, \"dataset_bel/train\")\n",
    "test_path = os.path.join(ROOT_PATH, \"dataset_bel/test\")"
   ]
  },
  {
   "cell_type": "code",
   "execution_count": 3,
   "metadata": {},
   "outputs": [
    {
     "name": "stdout",
     "output_type": "stream",
     "text": [
      "Total images (train):  4575\n",
      "Total labels (train):  62\n",
      "Images shape:  (4575, 64, 64, 3)\n",
      "Labels shape:  (4575,)\n",
      "Total images (test):  2520\n",
      "Total labels (test):  53\n",
      "Images shape:  (2520, 64, 64, 3)\n",
      "Labels shape:  (2520,)\n",
      "Titles total:  62\n",
      "Signal:  A31\n",
      "shape:  (64, 64, 3) \tmin: 0.04844037224264742 \tmax:  0.9921568627450981\n",
      "shape:  (64, 64, 3) \tmin: 0.012683823529412207 \tmax:  1.0\n",
      "shape:  (64, 64, 3) \tmin: 0.03416077856924062 \tmax:  0.7854355755974258\n",
      "shape:  (64, 64, 3) \tmin: 0.0391180300245094 \tmax:  0.8150242225796563\n",
      "shape:  (64, 64, 3) \tmin: 0.0064950980392159095 \tmax:  0.996078431372549\n",
      "shape:  (64, 64, 3) \tmin: 0.06834022671568622 \tmax:  0.8909658394607853\n",
      "shape:  (64, 64, 3) \tmin: 0.024230238970588236 \tmax:  0.9842294730392157\n",
      "shape:  (64, 64, 3) \tmin: 0.04133013556985346 \tmax:  1.0\n",
      "shape:  (64, 64, 3) \tmin: 0.023467419194240183 \tmax:  0.7593352673100491\n",
      "shape:  (64, 64, 3) \tmin: 0.01371017156862504 \tmax:  0.9921568627450981\n",
      "shape:  (64, 64, 3) \tmin: 0.07595454197303977 \tmax:  0.7563754212622538\n",
      "shape:  (64, 64, 3) \tmin: 0.07279411764705883 \tmax:  0.7749540441176471\n",
      "shape:  (64, 64, 3) \tmin: 0.022579656862743984 \tmax:  0.996078431372549\n",
      "shape:  (64, 64, 3) \tmin: 0.0 \tmax:  0.6835477941176472\n",
      "shape:  (64, 64, 3) \tmin: 0.03529411764705882 \tmax:  0.996078431372549\n",
      "shape:  (64, 64, 3) \tmin: 0.05310968137254885 \tmax:  0.571966911764706\n",
      "shape:  (64, 64, 3) \tmin: 0.06338536879595565 \tmax:  0.9201834884344352\n",
      "shape:  (64, 64, 3) \tmin: 0.033517156862744875 \tmax:  0.8648241230085848\n",
      "shape:  (64, 64, 3) \tmin: 0.03903664981617604 \tmax:  0.9793401979932586\n",
      "shape:  (64, 64, 3) \tmin: 0.0081806257659327 \tmax:  0.9777087641697311\n",
      "shape:  (64, 64, 3) \tmin: 0.05793504901960768 \tmax:  0.9921568627450981\n"
     ]
    }
   ],
   "source": [
    "# Cargamos las imágenes de entrenamiento y de test.\n",
    "images_train, labels_train = traffic.readDataset(train_path, IMG_SHAPE, False)\n",
    "images_test, labels_test = traffic.readDataset(test_path, IMG_SHAPE, False)\n",
    "\n",
    "# Convertimos las listas a array numpy de float32\n",
    "np_images_train = np.asarray(images_train, dtype = np.float32)\n",
    "np_labels_train = np.asarray(labels_train, dtype = np.int8)\n",
    "\n",
    "np_images_test = np.asarray(images_test, dtype = np.float32)\n",
    "np_labels_test = np.asarray(labels_test, dtype = np.int8)\n",
    "\n",
    "# Recuperamos los nombres de las categorias. Los diferentes tipo de señales\n",
    "# que se van a clasificar.\n",
    "titles = traffic.read_csv(labels_path, \",\")\n",
    "\n",
    "# Se imprime información de los datos cargados.\n",
    "traffic.print_size_dataset(images_train, labels_train, np_images_train, np_labels_train, \"train\")\n",
    "traffic.print_size_dataset(images_test, labels_test, np_images_test, np_labels_test, \"test\")\n",
    "print(\"Titles total: \", len(titles))\n",
    "traffic.print_signals_attributes(10, images_train, labels_train, titles)"
   ]
  },
  {
   "cell_type": "code",
   "execution_count": 4,
   "metadata": {},
   "outputs": [
    {
     "name": "stdout",
     "output_type": "stream",
     "text": [
      "Ejemplo primera imagen de manera categórica:  [0. 0. 0. 0. 0. 0. 0. 0. 0. 0. 0. 0. 0. 0. 0. 0. 0. 0. 0. 0. 0. 0. 0. 0.\n",
      " 0. 0. 0. 0. 0. 0. 0. 1. 0. 0. 0. 0. 0. 0. 0. 0. 0. 0. 0. 0. 0. 0. 0. 0.\n",
      " 0. 0. 0. 0. 0. 0. 0. 0. 0. 0. 0. 0. 0. 0.]\n"
     ]
    }
   ],
   "source": [
    "# Convertimos las labels de manera categórica\n",
    "labels_categorical_train = keras.utils.to_categorical(np_labels_train)\n",
    "labels_categorical_test = keras.utils.to_categorical(np_labels_test)\n",
    "\n",
    "print(\"Ejemplo primera imagen de manera categórica: \", labels_categorical_train[0])"
   ]
  },
  {
   "cell_type": "code",
   "execution_count": 5,
   "metadata": {},
   "outputs": [],
   "source": [
    "def get_keras_model(activation):\n",
    "    # IMPLEMENTACIÓN RED NEURONAL\n",
    "    # En Keras la envoltura para cualquier red neuronal se crea con la clase Sequential\n",
    "    model = models.Sequential()\n",
    "\n",
    "    model.add(layers.Conv2D(32, (5, 5),\n",
    "                            activation=activation, input_shape=(IMG_SHAPE[0], IMG_SHAPE[1], 3)))\n",
    "    model.add(layers.MaxPooling2D(2, 2))\n",
    "    model.add(layers.Dropout(0.2))\n",
    "\n",
    "    model.add(layers.Conv2D(64, (5, 5), activation=activation))\n",
    "    model.add(layers.MaxPooling2D(2, 2))\n",
    "    model.add(layers.Dropout(0.2))\n",
    "    \n",
    "    model.add(layers.Conv2D(128, (5, 5), activation=activation))\n",
    "    model.add(layers.MaxPooling2D(2, 2))\n",
    "    model.add(layers.Dropout(0.2))\n",
    "\n",
    "    model.add(layers.MaxPooling2D(2, 2))\n",
    "    model.add(layers.Dropout(0.2))\n",
    "\n",
    "    model.add(layers.Flatten())\n",
    "    model.add(layers.Dense(len(set(labels_train)), activation='softmax'))\n",
    "    return model"
   ]
  },
  {
   "cell_type": "code",
   "execution_count": 6,
   "metadata": {
    "scrolled": false
   },
   "outputs": [
    {
     "name": "stdout",
     "output_type": "stream",
     "text": [
      "Epoch: 20 - Batch_Size: 32\n",
      "WARNING:tensorflow:From /Users/togohi/traffic/lib/python3.6/site-packages/tensorflow/python/framework/op_def_library.py:263: colocate_with (from tensorflow.python.framework.ops) is deprecated and will be removed in a future version.\n",
      "Instructions for updating:\n",
      "Colocations handled automatically by placer.\n",
      "WARNING:tensorflow:From /Users/togohi/traffic/lib/python3.6/site-packages/keras/backend/tensorflow_backend.py:3445: calling dropout (from tensorflow.python.ops.nn_ops) with keep_prob is deprecated and will be removed in a future version.\n",
      "Instructions for updating:\n",
      "Please use `rate` instead of `keep_prob`. Rate should be set to `rate = 1 - keep_prob`.\n",
      "WARNING:tensorflow:From /Users/togohi/traffic/lib/python3.6/site-packages/tensorflow/python/ops/math_ops.py:3066: to_int32 (from tensorflow.python.ops.math_ops) is deprecated and will be removed in a future version.\n",
      "Instructions for updating:\n",
      "Use tf.cast instead.\n",
      "2520/2520 [==============================] - 9s 3ms/step\n",
      "Test loss: 0.16892847285248264\n",
      "Test accuracy: 0.9801587301587301\n",
      "Epoch: 20 - Batch_Size: 64\n",
      "2520/2520 [==============================] - 9s 4ms/step\n",
      "Test loss: 0.14295169941016853\n",
      "Test accuracy: 0.9797619047619047\n",
      "Epoch: 20 - Batch_Size: 128\n",
      "2520/2520 [==============================] - 9s 4ms/step\n",
      "Test loss: 0.10871682822139483\n",
      "Test accuracy: 0.9777777777777777\n",
      "Epoch: 25 - Batch_Size: 32\n",
      "2520/2520 [==============================] - 8s 3ms/step\n",
      "Test loss: 0.25909916985292836\n",
      "Test accuracy: 0.975\n",
      "Epoch: 25 - Batch_Size: 64\n",
      "2520/2520 [==============================] - 9s 3ms/step\n",
      "Test loss: 0.1324430398952171\n",
      "Test accuracy: 0.9805555555555555\n",
      "Epoch: 25 - Batch_Size: 128\n",
      "2520/2520 [==============================] - 9s 3ms/step\n",
      "Test loss: 0.13030479032118594\n",
      "Test accuracy: 0.9837301587301587\n",
      "Epoch: 30 - Batch_Size: 32\n",
      "2520/2520 [==============================] - 10s 4ms/step\n",
      "Test loss: 0.24310300963943934\n",
      "Test accuracy: 0.9765873015873016\n",
      "Epoch: 30 - Batch_Size: 64\n",
      "2520/2520 [==============================] - 9s 4ms/step\n",
      "Test loss: 0.17236458320021958\n",
      "Test accuracy: 0.975\n",
      "Epoch: 30 - Batch_Size: 128\n",
      "2520/2520 [==============================] - 5s 2ms/step\n",
      "Test loss: 0.19059645210104445\n",
      "Test accuracy: 0.975\n"
     ]
    }
   ],
   "source": [
    "for epoch in EPOCHS:\n",
    "    for batch_size in BATCH_SIZES:\n",
    "            print(\"Epoch: {} - Batch_Size: {}\".format(epoch, batch_size))\n",
    "            model = get_keras_model(ACTIVATION)\n",
    "            model.compile(loss = \"categorical_crossentropy\",\n",
    "                             optimizer = OPTIMIZER,\n",
    "                             metrics = ['accuracy'])\n",
    "    \n",
    "            model.fit(np_images_train, labels_categorical_train,\n",
    "                      verbose = 0,\n",
    "                      batch_size = batch_size,\n",
    "                      epochs = epoch,\n",
    "                      callbacks=[ModelCheckpoint('model_64_64_bel_' + ACTIVATION + '.h5', save_best_only = False)])\n",
    "\n",
    "            test_loss, test_acc = model.evaluate(np_images_test, labels_categorical_test)\n",
    "            print('Test loss:', test_loss)\n",
    "            print('Test accuracy:', test_acc)"
   ]
  },
  {
   "cell_type": "code",
   "execution_count": null,
   "metadata": {},
   "outputs": [],
   "source": []
  }
 ],
 "metadata": {
  "kernelspec": {
   "display_name": "Python 3",
   "language": "python",
   "name": "python3"
  },
  "language_info": {
   "codemirror_mode": {
    "name": "ipython",
    "version": 3
   },
   "file_extension": ".py",
   "mimetype": "text/x-python",
   "name": "python",
   "nbconvert_exporter": "python",
   "pygments_lexer": "ipython3",
   "version": "3.6.5"
  }
 },
 "nbformat": 4,
 "nbformat_minor": 2
}
