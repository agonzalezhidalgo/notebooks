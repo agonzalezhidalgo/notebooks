{
 "cells": [
  {
   "cell_type": "markdown",
   "metadata": {},
   "source": [
    "# Reconocimiento de señales de tráfico\n",
    "### Máster Universitario en Ingeniería computacional y matemática - Área de inteligencia artificial\n",
    "### Antonio González Hidalgo (agonzalezhidalgo@uoc.edu)\n",
    "\n",
    "Usando una red neuronal convolucional.\n",
    "\n",
    "Para la correcta funcionamiento de este notebook, el notebook debe de estar estructurado de la siguiente manera:\n",
    "\n",
    "- ./dataset\n",
    "- ./dataset/info.csv          Fichero que contiene los nombres de las señales correspondientes.\n",
    "- ./dataset/train/Images      Conjunto de imágenes que formarán el entrenamiento de la red neuronal.\n",
    "- ./dataset/test/info.csv.    Fichero que contiene las categórias de las imágenes de test.\n",
    "- ./dataset/test/Images       Conjunto de imágenes que constituirán el test."
   ]
  },
  {
   "cell_type": "code",
   "execution_count": 1,
   "metadata": {},
   "outputs": [
    {
     "name": "stdout",
     "output_type": "stream",
     "text": [
      "importing Jupyter notebook from tfm_generic_functions.ipynb\n"
     ]
    },
    {
     "name": "stderr",
     "output_type": "stream",
     "text": [
      "Using TensorFlow backend.\n"
     ]
    }
   ],
   "source": [
    "import import_ipynb\n",
    "import tfm_generic_functions as traffic\n",
    "\n",
    "# https://docs.python.org/3/library/os.html\n",
    "import os\n",
    "\n",
    "# https://docs.scipy.org/doc/numpy/reference/\n",
    "import numpy as np\n",
    "\n",
    "# https://keras.io/models/model/\n",
    "import keras\n",
    "\n",
    "from keras import models\n",
    "\n",
    "# Core Layers: https://keras.io/layers/core/\n",
    "# Convolution Layers: https://keras.io/layers/convolutional/\n",
    "from keras import layers\n",
    "\n",
    "# https://keras.io/preprocessing/image/\n",
    "from keras.preprocessing.image import ImageDataGenerator\n",
    "\n",
    "# https://keras.io/callbacks/\n",
    "from keras.callbacks import ModelCheckpoint"
   ]
  },
  {
   "cell_type": "code",
   "execution_count": 2,
   "metadata": {},
   "outputs": [
    {
     "name": "stdout",
     "output_type": "stream",
     "text": [
      "Tamaño de las imágenes de entrada:  (64, 64)\n",
      "Vectorizando la entrada, sería de un tamaño:  4096\n"
     ]
    }
   ],
   "source": [
    "# Obtenemos el directorio actual como trabajo.\n",
    "ROOT_PATH = os.getcwd()\n",
    "\n",
    "# Establecemos la dimensión de las imágenes.\n",
    "IMG_SHAPE = (64, 64)\n",
    "\n",
    "# Configuración de la CNN\n",
    "ACTIVATION = \"elu\"\n",
    "OPTIMIZER = \"adam\"\n",
    "EPOCH = 25\n",
    "BATCH_SIZE = 64\n",
    "\n",
    "print(\"Tamaño de las imágenes de entrada: \", IMG_SHAPE)\n",
    "IMG_SHAPE_LEN = IMG_SHAPE[0] * IMG_SHAPE[1]\n",
    "print(\"Vectorizando la entrada, sería de un tamaño: \", IMG_SHAPE_LEN)\n",
    "\n",
    "# Obtenemos los paths de trabajo\n",
    "train_path = os.path.join(ROOT_PATH, \"dataset_det/train\")\n",
    "test_path = os.path.join(ROOT_PATH, \"dataset_det/test\")"
   ]
  },
  {
   "cell_type": "code",
   "execution_count": 3,
   "metadata": {},
   "outputs": [
    {
     "name": "stdout",
     "output_type": "stream",
     "text": [
      "Total images (train):  15481\n",
      "Total labels (train):  2\n",
      "Images shape:  (15481, 64, 64, 3)\n",
      "Labels shape:  (15481,)\n",
      "Total images (test):  14726\n",
      "Total labels (test):  2\n",
      "Images shape:  (14726, 64, 64, 3)\n",
      "Labels shape:  (14726,)\n"
     ]
    }
   ],
   "source": [
    "# Cargamos las imágenes de entrenamiento y de test.\n",
    "images_train, labels_train = traffic.readDataset(train_path, IMG_SHAPE, False)\n",
    "images_test, labels_test = traffic.readDataset(test_path, IMG_SHAPE, False)\n",
    "\n",
    "# Convertimos las listas a array numpy de float32\n",
    "np_images_train = np.asarray(images_train, dtype = np.float32)\n",
    "np_labels_train = np.asarray(labels_train, dtype = np.int8)\n",
    "\n",
    "np_images_test = np.asarray(images_test, dtype = np.float32)\n",
    "np_labels_test = np.asarray(labels_test, dtype = np.int8)\n",
    "\n",
    "\n",
    "# Se imprime información de los datos cargados.\n",
    "traffic.print_size_dataset(images_train, labels_train, np_images_train, np_labels_train, \"train\")\n",
    "traffic.print_size_dataset(images_test, labels_test, np_images_test, np_labels_test, \"test\")"
   ]
  },
  {
   "cell_type": "code",
   "execution_count": 4,
   "metadata": {},
   "outputs": [
    {
     "name": "stdout",
     "output_type": "stream",
     "text": [
      "Ejemplo primera imagen de manera categórica:  [1. 0.]\n"
     ]
    }
   ],
   "source": [
    "# Convertimos las labels de manera categórica\n",
    "labels_categorical_train = keras.utils.to_categorical(np_labels_train)\n",
    "labels_categorical_test = keras.utils.to_categorical(np_labels_test)\n",
    "\n",
    "print(\"Ejemplo primera imagen de manera categórica: \", labels_categorical_train[0])"
   ]
  },
  {
   "cell_type": "code",
   "execution_count": 5,
   "metadata": {},
   "outputs": [],
   "source": [
    "def get_keras_model(activation):\n",
    "    # IMPLEMENTACIÓN RED NEURONAL\n",
    "    # En Keras la envoltura para cualquier red neuronal se crea con la clase Sequential\n",
    "    model = models.Sequential()\n",
    "\n",
    "    model.add(layers.Conv2D(32, (5, 5),\n",
    "                            activation=activation, input_shape=(IMG_SHAPE[0], IMG_SHAPE[1], 3)))\n",
    "    model.add(layers.MaxPooling2D(2, 2))\n",
    "    model.add(layers.Dropout(0.2))\n",
    "\n",
    "    model.add(layers.Conv2D(64, (5, 5), activation=activation))\n",
    "    model.add(layers.MaxPooling2D(2, 2))\n",
    "    model.add(layers.Dropout(0.2))\n",
    "    \n",
    "    model.add(layers.Conv2D(128, (5, 5), activation=activation))\n",
    "    model.add(layers.MaxPooling2D(2, 2))\n",
    "    model.add(layers.Dropout(0.2))\n",
    "\n",
    "    model.add(layers.MaxPooling2D(2, 2))\n",
    "    model.add(layers.Dropout(0.2))\n",
    "\n",
    "    model.add(layers.Flatten())\n",
    "    model.add(layers.Dense(len(set(labels_train)), activation='softmax'))\n",
    "    return model"
   ]
  },
  {
   "cell_type": "code",
   "execution_count": 6,
   "metadata": {
    "scrolled": false
   },
   "outputs": [
    {
     "name": "stdout",
     "output_type": "stream",
     "text": [
      "WARNING:tensorflow:From /Users/togohi/traffic/lib/python3.6/site-packages/tensorflow/python/framework/op_def_library.py:263: colocate_with (from tensorflow.python.framework.ops) is deprecated and will be removed in a future version.\n",
      "Instructions for updating:\n",
      "Colocations handled automatically by placer.\n",
      "WARNING:tensorflow:From /Users/togohi/traffic/lib/python3.6/site-packages/keras/backend/tensorflow_backend.py:3445: calling dropout (from tensorflow.python.ops.nn_ops) with keep_prob is deprecated and will be removed in a future version.\n",
      "Instructions for updating:\n",
      "Please use `rate` instead of `keep_prob`. Rate should be set to `rate = 1 - keep_prob`.\n",
      "_________________________________________________________________\n",
      "Layer (type)                 Output Shape              Param #   \n",
      "=================================================================\n",
      "conv2d_1 (Conv2D)            (None, 60, 60, 32)        2432      \n",
      "_________________________________________________________________\n",
      "max_pooling2d_1 (MaxPooling2 (None, 30, 30, 32)        0         \n",
      "_________________________________________________________________\n",
      "dropout_1 (Dropout)          (None, 30, 30, 32)        0         \n",
      "_________________________________________________________________\n",
      "conv2d_2 (Conv2D)            (None, 26, 26, 64)        51264     \n",
      "_________________________________________________________________\n",
      "max_pooling2d_2 (MaxPooling2 (None, 13, 13, 64)        0         \n",
      "_________________________________________________________________\n",
      "dropout_2 (Dropout)          (None, 13, 13, 64)        0         \n",
      "_________________________________________________________________\n",
      "conv2d_3 (Conv2D)            (None, 9, 9, 128)         204928    \n",
      "_________________________________________________________________\n",
      "max_pooling2d_3 (MaxPooling2 (None, 4, 4, 128)         0         \n",
      "_________________________________________________________________\n",
      "dropout_3 (Dropout)          (None, 4, 4, 128)         0         \n",
      "_________________________________________________________________\n",
      "max_pooling2d_4 (MaxPooling2 (None, 2, 2, 128)         0         \n",
      "_________________________________________________________________\n",
      "dropout_4 (Dropout)          (None, 2, 2, 128)         0         \n",
      "_________________________________________________________________\n",
      "flatten_1 (Flatten)          (None, 512)               0         \n",
      "_________________________________________________________________\n",
      "dense_1 (Dense)              (None, 2)                 1026      \n",
      "=================================================================\n",
      "Total params: 259,650\n",
      "Trainable params: 259,650\n",
      "Non-trainable params: 0\n",
      "_________________________________________________________________\n",
      "WARNING:tensorflow:From /Users/togohi/traffic/lib/python3.6/site-packages/tensorflow/python/ops/math_ops.py:3066: to_int32 (from tensorflow.python.ops.math_ops) is deprecated and will be removed in a future version.\n",
      "Instructions for updating:\n",
      "Use tf.cast instead.\n",
      "Epoch 1/25\n",
      " - 101s - loss: 0.2171 - acc: 0.9213\n",
      "Epoch 2/25\n",
      " - 98s - loss: 0.0825 - acc: 0.9729\n",
      "Epoch 3/25\n",
      " - 88s - loss: 0.0507 - acc: 0.9840\n",
      "Epoch 4/25\n",
      " - 88s - loss: 0.0405 - acc: 0.9875\n",
      "Epoch 5/25\n",
      " - 93s - loss: 0.0401 - acc: 0.9878\n",
      "Epoch 6/25\n",
      " - 94s - loss: 0.0317 - acc: 0.9901\n",
      "Epoch 7/25\n",
      " - 96s - loss: 0.0251 - acc: 0.9919\n",
      "Epoch 8/25\n",
      " - 95s - loss: 0.0198 - acc: 0.9943\n",
      "Epoch 9/25\n",
      " - 94s - loss: 0.0254 - acc: 0.9937\n",
      "Epoch 10/25\n",
      " - 95s - loss: 0.0401 - acc: 0.9914\n",
      "Epoch 11/25\n",
      " - 98s - loss: 0.0209 - acc: 0.9942\n",
      "Epoch 12/25\n",
      " - 96s - loss: 0.0347 - acc: 0.9919\n",
      "Epoch 13/25\n",
      " - 92s - loss: 0.0075 - acc: 0.9981\n",
      "Epoch 14/25\n",
      " - 91s - loss: 0.0185 - acc: 0.9957\n",
      "Epoch 15/25\n",
      " - 95s - loss: 0.0347 - acc: 0.9929\n",
      "Epoch 16/25\n",
      " - 91s - loss: 0.0297 - acc: 0.9943\n",
      "Epoch 17/25\n",
      " - 87s - loss: 0.0269 - acc: 0.9943\n",
      "Epoch 18/25\n",
      " - 87s - loss: 0.0193 - acc: 0.9964\n",
      "Epoch 19/25\n",
      " - 89s - loss: 0.0131 - acc: 0.9977\n",
      "Epoch 20/25\n",
      " - 89s - loss: 0.0151 - acc: 0.9973\n",
      "Epoch 21/25\n",
      " - 89s - loss: 0.0507 - acc: 0.9930\n",
      "Epoch 22/25\n",
      " - 88s - loss: 0.0467 - acc: 0.9934\n",
      "Epoch 23/25\n",
      " - 89s - loss: 0.0366 - acc: 0.9945\n",
      "Epoch 24/25\n",
      " - 89s - loss: 0.0358 - acc: 0.9959\n",
      "Epoch 25/25\n",
      " - 88s - loss: 0.0323 - acc: 0.9955\n",
      "14726/14726 [==============================] - 25s 2ms/step\n",
      "Test loss: 1.980566535920864\n",
      "Test accuracy: 0.8227624609534158\n"
     ]
    }
   ],
   "source": [
    "model = get_keras_model(ACTIVATION)\n",
    "\n",
    "# Muestra la arquitectura de nuestra red neuronal\n",
    "model.summary()\n",
    "\n",
    "# Configurando el modelo de aprendijaze:\n",
    "#  · loss, función para evaluar el grado de error entre salidas calculadas\n",
    "#  · optimizador, función para calcular los pesos de los parámetros a partir de los datos de entrada\n",
    "#  · metricas, para monitorizar el proceso de aprendizaje de la red.\n",
    "model.compile(loss=\"categorical_crossentropy\",\n",
    "             optimizer=OPTIMIZER,\n",
    "             metrics=['accuracy'])\n",
    "\n",
    "# Entrenamiento del modelo\n",
    "# - batch_size, indica el número de datos que se usan en cada actualización.\n",
    "# - epochs, indica el número de veces que se usan todos los datos del proceso.\n",
    "#model.fit(np_images_train, labels_categorical_train, batch_size=32, epochs=20)\n",
    "model.fit(np_images_train, labels_categorical_train,\n",
    "          batch_size = BATCH_SIZE,\n",
    "          epochs = EPOCH,\n",
    "          verbose = 2,\n",
    "          callbacks=[ModelCheckpoint('model_64_64_det.h5', save_best_only = False)])\n",
    "\n",
    "# Evaluación del modelo\n",
    "test_loss, test_acc = model.evaluate(np_images_test, labels_categorical_test)\n",
    "print('Test loss:', test_loss)\n",
    "print('Test accuracy:', test_acc)"
   ]
  },
  {
   "cell_type": "code",
   "execution_count": 7,
   "metadata": {},
   "outputs": [],
   "source": [
    "datagen = ImageDataGenerator(featurewise_center=False,\n",
    "                             featurewise_std_normalization=False, \n",
    "                             width_shift_range=0.1,\n",
    "                             height_shift_range=0.1,\n",
    "                             zoom_range=0.2,\n",
    "                             shear_range=0.1,\n",
    "                             rotation_range=10.,)\n",
    "\n",
    "datagen.fit(np_images_test)"
   ]
  },
  {
   "cell_type": "code",
   "execution_count": 8,
   "metadata": {},
   "outputs": [
    {
     "name": "stdout",
     "output_type": "stream",
     "text": [
      "Epoch 1/25\n",
      "15481/15481 [==============================] - 3055s 197ms/step - loss: 0.0504 - acc: 0.9872\n",
      "Epoch 2/25\n",
      "15481/15481 [==============================] - 3209s 207ms/step - loss: 0.0371 - acc: 0.9936\n",
      "Epoch 3/25\n",
      "15481/15481 [==============================] - 2833s 183ms/step - loss: 0.0401 - acc: 0.9946\n",
      "Epoch 4/25\n",
      "15481/15481 [==============================] - 2870s 185ms/step - loss: 0.0914 - acc: 0.9931\n",
      "Epoch 5/25\n",
      "15481/15481 [==============================] - 3236s 209ms/step - loss: 0.1705 - acc: 0.9891\n",
      "Epoch 6/25\n",
      "15481/15481 [==============================] - 2826s 183ms/step - loss: 0.2864 - acc: 0.9821\n",
      "Epoch 7/25\n",
      "15481/15481 [==============================] - 2817s 182ms/step - loss: 0.2496 - acc: 0.9845\n",
      "Epoch 8/25\n",
      "15481/15481 [==============================] - 2792s 180ms/step - loss: 0.3064 - acc: 0.9809\n",
      "Epoch 9/25\n",
      "15481/15481 [==============================] - 2782s 180ms/step - loss: 0.3619 - acc: 0.9775\n",
      "Epoch 10/25\n",
      "15481/15481 [==============================] - 2789s 180ms/step - loss: 0.2835 - acc: 0.9824\n",
      "Epoch 11/25\n",
      "15481/15481 [==============================] - 2804s 181ms/step - loss: 0.4654 - acc: 0.9711\n",
      "Epoch 12/25\n",
      "15481/15481 [==============================] - 2803s 181ms/step - loss: 0.3711 - acc: 0.9769\n",
      "Epoch 13/25\n",
      "15481/15481 [==============================] - 2801s 181ms/step - loss: 0.5706 - acc: 0.9646\n",
      "Epoch 14/25\n",
      "15481/15481 [==============================] - 2799s 181ms/step - loss: 0.4379 - acc: 0.9728\n",
      "Epoch 15/25\n",
      "15481/15481 [==============================] - 2805s 181ms/step - loss: 0.4749 - acc: 0.9705\n",
      "Epoch 16/25\n",
      "15481/15481 [==============================] - 2802s 181ms/step - loss: 0.4701 - acc: 0.9708\n",
      "Epoch 17/25\n",
      "15481/15481 [==============================] - 2804s 181ms/step - loss: 0.7332 - acc: 0.9545\n",
      "Epoch 18/25\n",
      "15481/15481 [==============================] - 2806s 181ms/step - loss: 0.9429 - acc: 0.9415\n",
      "Epoch 19/25\n",
      "15481/15481 [==============================] - 2828s 183ms/step - loss: 0.8806 - acc: 0.9454\n",
      "Epoch 20/25\n",
      "15481/15481 [==============================] - 2840s 183ms/step - loss: 0.5373 - acc: 0.9667\n",
      "Epoch 21/25\n",
      "15481/15481 [==============================] - 2822s 182ms/step - loss: 0.4051 - acc: 0.9748\n",
      "Epoch 22/25\n",
      "15481/15481 [==============================] - 2816s 182ms/step - loss: 0.3663 - acc: 0.9773\n",
      "Epoch 23/25\n",
      "15481/15481 [==============================] - 2818s 182ms/step - loss: 0.4924 - acc: 0.9694\n",
      "Epoch 24/25\n",
      "15481/15481 [==============================] - 2838s 183ms/step - loss: 1.0391 - acc: 0.9355\n",
      "Epoch 25/25\n",
      "15481/15481 [==============================] - 2832s 183ms/step - loss: 0.4796 - acc: 0.9702\n"
     ]
    },
    {
     "data": {
      "text/plain": [
       "<keras.callbacks.History at 0x247e9c438>"
      ]
     },
     "execution_count": 8,
     "metadata": {},
     "output_type": "execute_result"
    }
   ],
   "source": [
    "model_2 = get_keras_model(ACTIVATION)\n",
    "\n",
    "model_2.compile(loss=\"categorical_crossentropy\",\n",
    "             optimizer=OPTIMIZER,\n",
    "             metrics=['accuracy'])\n",
    "\n",
    "model_2.fit_generator(datagen.flow(np_images_train, labels_categorical_train, batch_size=32),\n",
    "                      steps_per_epoch = np_images_train.shape[0],\n",
    "                      epochs = EPOCH,\n",
    "                      callbacks=[ModelCheckpoint('model_data_aug_64_64_det.h5',save_best_only = False)])"
   ]
  },
  {
   "cell_type": "code",
   "execution_count": 9,
   "metadata": {},
   "outputs": [
    {
     "name": "stdout",
     "output_type": "stream",
     "text": [
      "14726/14726 [==============================] - 22s 1ms/step\n",
      "Test loss: 3.1829024738516156\n",
      "Test accuracy: 0.8025261442346869\n"
     ]
    }
   ],
   "source": [
    "# Evaluación del modelo\n",
    "test_loss, test_acc = model_2.evaluate(np_images_test, labels_categorical_test)\n",
    "print('Test loss:', test_loss)\n",
    "print('Test accuracy:', test_acc)"
   ]
  },
  {
   "cell_type": "code",
   "execution_count": null,
   "metadata": {},
   "outputs": [],
   "source": []
  }
 ],
 "metadata": {
  "kernelspec": {
   "display_name": "Python 3",
   "language": "python",
   "name": "python3"
  },
  "language_info": {
   "codemirror_mode": {
    "name": "ipython",
    "version": 3
   },
   "file_extension": ".py",
   "mimetype": "text/x-python",
   "name": "python",
   "nbconvert_exporter": "python",
   "pygments_lexer": "ipython3",
   "version": "3.6.5"
  }
 },
 "nbformat": 4,
 "nbformat_minor": 2
}
