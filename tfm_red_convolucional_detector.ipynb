{
 "cells": [
  {
   "cell_type": "markdown",
   "metadata": {},
   "source": [
    "# Reconocimiento de señales de tráfico\n",
    "### Máster Universitario en Ingeniería computacional y matemática - Área de inteligencia artificial\n",
    "### Antonio González Hidalgo (agonzalezhidalgo@uoc.edu)\n",
    "\n",
    "Usando una red neuronal convolucional.\n",
    "\n",
    "Para la correcta funcionamiento de este notebook, el notebook debe de estar estructurado de la siguiente manera:\n",
    "\n",
    "- ./dataset\n",
    "- ./dataset/info.csv          Fichero que contiene los nombres de las señales correspondientes.\n",
    "- ./dataset/train/Images      Conjunto de imágenes que formarán el entrenamiento de la red neuronal.\n",
    "- ./dataset/test/info.csv.    Fichero que contiene las categórias de las imágenes de test.\n",
    "- ./dataset/test/Images       Conjunto de imágenes que constituirán el test."
   ]
  },
  {
   "cell_type": "code",
   "execution_count": 1,
   "metadata": {},
   "outputs": [
    {
     "name": "stdout",
     "output_type": "stream",
     "text": [
      "importing Jupyter notebook from tfm_generic_functions.ipynb\n"
     ]
    },
    {
     "name": "stderr",
     "output_type": "stream",
     "text": [
      "Using TensorFlow backend.\n"
     ]
    }
   ],
   "source": [
    "import import_ipynb\n",
    "import tfm_generic_functions as traffic\n",
    "\n",
    "# https://docs.python.org/3/library/os.html\n",
    "import os\n",
    "\n",
    "# https://docs.scipy.org/doc/numpy/reference/\n",
    "import numpy as np\n",
    "\n",
    "# https://keras.io/models/model/\n",
    "import keras\n",
    "\n",
    "from keras import models\n",
    "\n",
    "# Core Layers: https://keras.io/layers/core/\n",
    "# Convolution Layers: https://keras.io/layers/convolutional/\n",
    "from keras import layers\n",
    "\n",
    "# https://keras.io/preprocessing/image/\n",
    "from keras.preprocessing.image import ImageDataGenerator\n",
    "\n",
    "# https://keras.io/callbacks/\n",
    "from keras.callbacks import ModelCheckpoint"
   ]
  },
  {
   "cell_type": "code",
   "execution_count": 2,
   "metadata": {},
   "outputs": [
    {
     "name": "stdout",
     "output_type": "stream",
     "text": [
      "Tamaño de las imágenes de entrada:  (64, 64)\n",
      "Vectorizando la entrada, sería de un tamaño:  4096\n"
     ]
    }
   ],
   "source": [
    "# Obtenemos el directorio actual como trabajo.\n",
    "ROOT_PATH = os.getcwd()\n",
    "\n",
    "# Establecemos la dimensión de las imágenes.\n",
    "IMG_SHAPE = (64, 64)\n",
    "print(\"Tamaño de las imágenes de entrada: \", IMG_SHAPE)\n",
    "IMG_SHAPE_LEN = IMG_SHAPE[0] * IMG_SHAPE[1]\n",
    "print(\"Vectorizando la entrada, sería de un tamaño: \", IMG_SHAPE_LEN)\n",
    "\n",
    "# Obtenemos los paths de trabajo\n",
    "train_path = os.path.join(ROOT_PATH, \"dataset_det/train\")\n",
    "test_path = os.path.join(ROOT_PATH, \"dataset_det/test\")"
   ]
  },
  {
   "cell_type": "code",
   "execution_count": 3,
   "metadata": {},
   "outputs": [
    {
     "name": "stdout",
     "output_type": "stream",
     "text": [
      "Total images (train):  15481\n",
      "Total labels (train):  2\n",
      "Images shape:  (15481, 64, 64, 3)\n",
      "Labels shape:  (15481,)\n",
      "Total images (test):  14726\n",
      "Total labels (test):  2\n",
      "Images shape:  (14726, 64, 64, 3)\n",
      "Labels shape:  (14726,)\n"
     ]
    }
   ],
   "source": [
    "# Cargamos las imágenes de entrenamiento y de test.\n",
    "images_train, labels_train = traffic.readDataset(train_path, IMG_SHAPE, False)\n",
    "images_test, labels_test = traffic.readDataset(test_path, IMG_SHAPE, False)\n",
    "\n",
    "# Convertimos las listas a array numpy de float32\n",
    "np_images_train = np.asarray(images_train, dtype = np.float32)\n",
    "np_labels_train = np.asarray(labels_train, dtype = np.int8)\n",
    "\n",
    "np_images_test = np.asarray(images_test, dtype = np.float32)\n",
    "np_labels_test = np.asarray(labels_test, dtype = np.int8)\n",
    "\n",
    "\n",
    "# Se imprime información de los datos cargados.\n",
    "traffic.print_size_dataset(images_train, labels_train, np_images_train, np_labels_train, \"train\")\n",
    "traffic.print_size_dataset(images_test, labels_test, np_images_test, np_labels_test, \"test\")"
   ]
  },
  {
   "cell_type": "code",
   "execution_count": 4,
   "metadata": {},
   "outputs": [
    {
     "name": "stdout",
     "output_type": "stream",
     "text": [
      "Ejemplo primera imagen de manera categórica:  [1. 0.]\n"
     ]
    }
   ],
   "source": [
    "# Convertimos las labels de manera categórica\n",
    "labels_categorical_train = keras.utils.to_categorical(np_labels_train)\n",
    "labels_categorical_test = keras.utils.to_categorical(np_labels_test)\n",
    "\n",
    "print(\"Ejemplo primera imagen de manera categórica: \", labels_categorical_train[0])"
   ]
  },
  {
   "cell_type": "code",
   "execution_count": 5,
   "metadata": {},
   "outputs": [],
   "source": [
    "def get_keras_model():\n",
    "    # IMPLEMENTACIÓN RED NEURONAL\n",
    "    # En Keras la envoltura para cualquier red neuronal se crea con la clase Sequential\n",
    "    model = models.Sequential()\n",
    "\n",
    "    model.add(layers.Conv2D(32, (5, 5),\n",
    "                            activation='relu', input_shape=(IMG_SHAPE[0], IMG_SHAPE[1], 3)))\n",
    "    model.add(layers.MaxPooling2D(2, 2))\n",
    "    model.add(layers.Dropout(0.2))\n",
    "\n",
    "    model.add(layers.Conv2D(64, (5, 5), activation='relu'))\n",
    "    model.add(layers.MaxPooling2D(2, 2))\n",
    "    model.add(layers.Dropout(0.2))\n",
    "    \n",
    "    model.add(layers.Conv2D(128, (5, 5), activation='relu'))\n",
    "    model.add(layers.MaxPooling2D(2, 2))\n",
    "    model.add(layers.Dropout(0.2))\n",
    "\n",
    "    model.add(layers.MaxPooling2D(2, 2))\n",
    "    model.add(layers.Dropout(0.2))\n",
    "\n",
    "    model.add(layers.Flatten())\n",
    "    model.add(layers.Dense(len(set(labels_train)), activation='softmax'))\n",
    "    return model"
   ]
  },
  {
   "cell_type": "code",
   "execution_count": 6,
   "metadata": {
    "scrolled": false
   },
   "outputs": [
    {
     "name": "stdout",
     "output_type": "stream",
     "text": [
      "WARNING:tensorflow:From /Users/togohi/traffic/lib/python3.6/site-packages/tensorflow/python/framework/op_def_library.py:263: colocate_with (from tensorflow.python.framework.ops) is deprecated and will be removed in a future version.\n",
      "Instructions for updating:\n",
      "Colocations handled automatically by placer.\n",
      "WARNING:tensorflow:From /Users/togohi/traffic/lib/python3.6/site-packages/keras/backend/tensorflow_backend.py:3445: calling dropout (from tensorflow.python.ops.nn_ops) with keep_prob is deprecated and will be removed in a future version.\n",
      "Instructions for updating:\n",
      "Please use `rate` instead of `keep_prob`. Rate should be set to `rate = 1 - keep_prob`.\n",
      "_________________________________________________________________\n",
      "Layer (type)                 Output Shape              Param #   \n",
      "=================================================================\n",
      "conv2d_1 (Conv2D)            (None, 60, 60, 32)        2432      \n",
      "_________________________________________________________________\n",
      "max_pooling2d_1 (MaxPooling2 (None, 30, 30, 32)        0         \n",
      "_________________________________________________________________\n",
      "dropout_1 (Dropout)          (None, 30, 30, 32)        0         \n",
      "_________________________________________________________________\n",
      "conv2d_2 (Conv2D)            (None, 26, 26, 64)        51264     \n",
      "_________________________________________________________________\n",
      "max_pooling2d_2 (MaxPooling2 (None, 13, 13, 64)        0         \n",
      "_________________________________________________________________\n",
      "dropout_2 (Dropout)          (None, 13, 13, 64)        0         \n",
      "_________________________________________________________________\n",
      "conv2d_3 (Conv2D)            (None, 9, 9, 128)         204928    \n",
      "_________________________________________________________________\n",
      "max_pooling2d_3 (MaxPooling2 (None, 4, 4, 128)         0         \n",
      "_________________________________________________________________\n",
      "dropout_3 (Dropout)          (None, 4, 4, 128)         0         \n",
      "_________________________________________________________________\n",
      "max_pooling2d_4 (MaxPooling2 (None, 2, 2, 128)         0         \n",
      "_________________________________________________________________\n",
      "dropout_4 (Dropout)          (None, 2, 2, 128)         0         \n",
      "_________________________________________________________________\n",
      "flatten_1 (Flatten)          (None, 512)               0         \n",
      "_________________________________________________________________\n",
      "dense_1 (Dense)              (None, 2)                 1026      \n",
      "=================================================================\n",
      "Total params: 259,650\n",
      "Trainable params: 259,650\n",
      "Non-trainable params: 0\n",
      "_________________________________________________________________\n",
      "WARNING:tensorflow:From /Users/togohi/traffic/lib/python3.6/site-packages/tensorflow/python/ops/math_ops.py:3066: to_int32 (from tensorflow.python.ops.math_ops) is deprecated and will be removed in a future version.\n",
      "Instructions for updating:\n",
      "Use tf.cast instead.\n",
      "Epoch 1/30\n",
      "15481/15481 [==============================] - 82s 5ms/step - loss: 0.3642 - acc: 0.8578\n",
      "Epoch 2/30\n",
      "15481/15481 [==============================] - 84s 5ms/step - loss: 0.1796 - acc: 0.9411\n",
      "Epoch 3/30\n",
      "15481/15481 [==============================] - 82s 5ms/step - loss: 0.1311 - acc: 0.9567\n",
      "Epoch 4/30\n",
      "15481/15481 [==============================] - 81s 5ms/step - loss: 0.1024 - acc: 0.9674\n",
      "Epoch 5/30\n",
      "15481/15481 [==============================] - 81s 5ms/step - loss: 0.0889 - acc: 0.9714\n",
      "Epoch 6/30\n",
      "15481/15481 [==============================] - 81s 5ms/step - loss: 0.0801 - acc: 0.9746\n",
      "Epoch 7/30\n",
      "15481/15481 [==============================] - 80s 5ms/step - loss: 0.0723 - acc: 0.9765\n",
      "Epoch 8/30\n",
      "15481/15481 [==============================] - 80s 5ms/step - loss: 0.0674 - acc: 0.9780\n",
      "Epoch 9/30\n",
      "15481/15481 [==============================] - 80s 5ms/step - loss: 0.0608 - acc: 0.9795\n",
      "Epoch 10/30\n",
      "15481/15481 [==============================] - 80s 5ms/step - loss: 0.0557 - acc: 0.9819\n",
      "Epoch 11/30\n",
      "15481/15481 [==============================] - 81s 5ms/step - loss: 0.0518 - acc: 0.9829\n",
      "Epoch 12/30\n",
      "15481/15481 [==============================] - 81s 5ms/step - loss: 0.0479 - acc: 0.9843\n",
      "Epoch 13/30\n",
      "15481/15481 [==============================] - 81s 5ms/step - loss: 0.0454 - acc: 0.9844\n",
      "Epoch 14/30\n",
      "15481/15481 [==============================] - 81s 5ms/step - loss: 0.0404 - acc: 0.9865\n",
      "Epoch 15/30\n",
      "15481/15481 [==============================] - 81s 5ms/step - loss: 0.0402 - acc: 0.9863\n",
      "Epoch 16/30\n",
      "15481/15481 [==============================] - 80s 5ms/step - loss: 0.0368 - acc: 0.9884\n",
      "Epoch 17/30\n",
      "15481/15481 [==============================] - 81s 5ms/step - loss: 0.0348 - acc: 0.9882\n",
      "Epoch 18/30\n",
      "15481/15481 [==============================] - 80s 5ms/step - loss: 0.0320 - acc: 0.9897\n",
      "Epoch 19/30\n",
      "15481/15481 [==============================] - 80s 5ms/step - loss: 0.0291 - acc: 0.9899\n",
      "Epoch 20/30\n",
      "15481/15481 [==============================] - 81s 5ms/step - loss: 0.0291 - acc: 0.9899\n",
      "Epoch 21/30\n",
      "15481/15481 [==============================] - 81s 5ms/step - loss: 0.0265 - acc: 0.9910\n",
      "Epoch 22/30\n",
      "15481/15481 [==============================] - 80s 5ms/step - loss: 0.0229 - acc: 0.9926\n",
      "Epoch 23/30\n",
      "15481/15481 [==============================] - 80s 5ms/step - loss: 0.0239 - acc: 0.9921\n",
      "Epoch 24/30\n",
      "15481/15481 [==============================] - 80s 5ms/step - loss: 0.0233 - acc: 0.9926\n",
      "Epoch 25/30\n",
      "15481/15481 [==============================] - 80s 5ms/step - loss: 0.0201 - acc: 0.9929\n",
      "Epoch 26/30\n",
      "15481/15481 [==============================] - 80s 5ms/step - loss: 0.0205 - acc: 0.9931\n",
      "Epoch 27/30\n",
      "15481/15481 [==============================] - 80s 5ms/step - loss: 0.0177 - acc: 0.9943\n",
      "Epoch 28/30\n",
      "15481/15481 [==============================] - 80s 5ms/step - loss: 0.0174 - acc: 0.9940\n",
      "Epoch 29/30\n",
      "15481/15481 [==============================] - 80s 5ms/step - loss: 0.0170 - acc: 0.9946\n",
      "Epoch 30/30\n",
      "15481/15481 [==============================] - 80s 5ms/step - loss: 0.0169 - acc: 0.9946\n",
      "14726/14726 [==============================] - 20s 1ms/step\n",
      "Test loss: 0.6198887011792921\n",
      "Test accuracy: 0.7573000135814206\n"
     ]
    }
   ],
   "source": [
    "model = get_keras_model()\n",
    "\n",
    "# Muestra la arquitectura de nuestra red neuronal\n",
    "model.summary()\n",
    "\n",
    "# Configurando el modelo de aprendijaze:\n",
    "#  · loss, función para evaluar el grado de error entre salidas calculadas\n",
    "#  · optimizador, función para calcular los pesos de los parámetros a partir de los datos de entrada\n",
    "#  · metricas, para monitorizar el proceso de aprendizaje de la red.\n",
    "model.compile(loss=\"categorical_crossentropy\",\n",
    "             optimizer=\"sgd\",\n",
    "             metrics=['accuracy'])\n",
    "\n",
    "# Entrenamiento del modelo\n",
    "# - batch_size, indica el número de datos que se usan en cada actualización.\n",
    "# - epochs, indica el número de veces que se usan todos los datos del proceso.\n",
    "#model.fit(np_images_train, labels_categorical_train, batch_size=32, epochs=20)\n",
    "model.fit(np_images_train, labels_categorical_train,\n",
    "          batch_size = 32,\n",
    "          epochs = 30,\n",
    "          callbacks=[ModelCheckpoint('model_64_64_det.h5', save_best_only = False)])\n",
    "\n",
    "# Evaluación del modelo\n",
    "test_loss, test_acc = model.evaluate(np_images_test, labels_categorical_test)\n",
    "print('Test loss:', test_loss)\n",
    "print('Test accuracy:', test_acc)"
   ]
  },
  {
   "cell_type": "code",
   "execution_count": 7,
   "metadata": {},
   "outputs": [
    {
     "name": "stdout",
     "output_type": "stream",
     "text": [
      "14726/14726 [==============================] - 20s 1ms/step\n",
      "Test loss: 0.6198887011792921\n",
      "Test accuracy: 0.7573000135814206\n"
     ]
    }
   ],
   "source": [
    "# Evaluación del modelo\n",
    "test_loss, test_acc = model.evaluate(np_images_test, labels_categorical_test)\n",
    "print('Test loss:', test_loss)\n",
    "print('Test accuracy:', test_acc)"
   ]
  },
  {
   "cell_type": "code",
   "execution_count": 8,
   "metadata": {},
   "outputs": [],
   "source": [
    "datagen = ImageDataGenerator(featurewise_center=False,\n",
    "                             featurewise_std_normalization=False, \n",
    "                             width_shift_range=0.1,\n",
    "                             height_shift_range=0.1,\n",
    "                             zoom_range=0.2,\n",
    "                             shear_range=0.1,\n",
    "                             rotation_range=10.,)\n",
    "\n",
    "datagen.fit(np_images_test)"
   ]
  },
  {
   "cell_type": "code",
   "execution_count": 9,
   "metadata": {},
   "outputs": [
    {
     "name": "stdout",
     "output_type": "stream",
     "text": [
      "Epoch 1/30\n",
      "15481/15481 [==============================] - 2586s 167ms/step - loss: 0.0747 - acc: 0.9742\n",
      "Epoch 2/30\n",
      "15481/15481 [==============================] - 2674s 173ms/step - loss: 0.0154 - acc: 0.9950\n",
      "Epoch 3/30\n",
      "15481/15481 [==============================] - 2746s 177ms/step - loss: 0.0081 - acc: 0.9974\n",
      "Epoch 4/30\n",
      "15481/15481 [==============================] - 2744s 177ms/step - loss: 0.0053 - acc: 0.9984\n",
      "Epoch 5/30\n",
      "15481/15481 [==============================] - 2745s 177ms/step - loss: 0.0038 - acc: 0.9988\n",
      "Epoch 6/30\n",
      "15481/15481 [==============================] - 2752s 178ms/step - loss: 0.0029 - acc: 0.9991\n",
      "Epoch 7/30\n",
      "15481/15481 [==============================] - 2756s 178ms/step - loss: 0.0025 - acc: 0.9993\n",
      "Epoch 8/30\n",
      "15481/15481 [==============================] - 2757s 178ms/step - loss: 0.0019 - acc: 0.9994\n",
      "Epoch 9/30\n",
      "15481/15481 [==============================] - 2837s 183ms/step - loss: 0.0016 - acc: 0.9995\n",
      "Epoch 10/30\n",
      "15481/15481 [==============================] - 2743s 177ms/step - loss: 0.0014 - acc: 0.9996\n",
      "Epoch 11/30\n",
      "15481/15481 [==============================] - 2704s 175ms/step - loss: 0.0013 - acc: 0.9996\n",
      "Epoch 12/30\n",
      "15481/15481 [==============================] - 2710s 175ms/step - loss: 0.0013 - acc: 0.9996\n",
      "Epoch 13/30\n",
      "15481/15481 [==============================] - 2722s 176ms/step - loss: 0.0010 - acc: 0.9997\n",
      "Epoch 14/30\n",
      "15481/15481 [==============================] - 2718s 176ms/step - loss: 8.2541e-04 - acc: 0.9998\n",
      "Epoch 15/30\n",
      "15481/15481 [==============================] - 2679s 173ms/step - loss: 9.0346e-04 - acc: 0.9998\n",
      "Epoch 16/30\n",
      "15481/15481 [==============================] - 2671s 173ms/step - loss: 7.0138e-04 - acc: 0.9998\n",
      "Epoch 17/30\n",
      "15481/15481 [==============================] - 2681s 173ms/step - loss: 6.6554e-04 - acc: 0.9998\n",
      "Epoch 18/30\n",
      "15481/15481 [==============================] - 2868s 185ms/step - loss: 6.5017e-04 - acc: 0.9998\n",
      "Epoch 19/30\n",
      "15481/15481 [==============================] - 2719s 176ms/step - loss: 7.4538e-04 - acc: 0.9998\n",
      "Epoch 20/30\n",
      "15481/15481 [==============================] - 2709s 175ms/step - loss: 5.1552e-04 - acc: 0.9998\n",
      "Epoch 21/30\n",
      "15481/15481 [==============================] - 2705s 175ms/step - loss: 5.0243e-04 - acc: 0.9999\n",
      "Epoch 22/30\n",
      "15481/15481 [==============================] - 2715s 175ms/step - loss: 5.1786e-04 - acc: 0.9998\n",
      "Epoch 23/30\n",
      "15481/15481 [==============================] - 2726s 176ms/step - loss: 4.3965e-04 - acc: 0.9999\n",
      "Epoch 24/30\n",
      "15481/15481 [==============================] - 2714s 175ms/step - loss: 4.2572e-04 - acc: 0.9999\n",
      "Epoch 25/30\n",
      "15481/15481 [==============================] - 2720s 176ms/step - loss: 4.0450e-04 - acc: 0.9999\n",
      "Epoch 26/30\n",
      "15481/15481 [==============================] - 2722s 176ms/step - loss: 3.0012e-04 - acc: 0.9999\n",
      "Epoch 27/30\n",
      "15481/15481 [==============================] - 2735s 177ms/step - loss: 4.0771e-04 - acc: 0.9999\n",
      "Epoch 28/30\n",
      "15481/15481 [==============================] - 2726s 176ms/step - loss: 3.5580e-04 - acc: 0.9999\n",
      "Epoch 29/30\n",
      "15481/15481 [==============================] - 2708s 175ms/step - loss: 4.0883e-04 - acc: 0.9999\n",
      "Epoch 30/30\n",
      "15481/15481 [==============================] - 2704s 175ms/step - loss: 2.9312e-04 - acc: 0.9999\n"
     ]
    },
    {
     "data": {
      "text/plain": [
       "<keras.callbacks.History at 0x13874b470>"
      ]
     },
     "execution_count": 9,
     "metadata": {},
     "output_type": "execute_result"
    }
   ],
   "source": [
    "model_2 = get_keras_model()\n",
    "\n",
    "model_2.compile(loss=\"categorical_crossentropy\",\n",
    "             optimizer=\"sgd\",\n",
    "             metrics=['accuracy'])\n",
    "\n",
    "model_2.fit_generator(datagen.flow(np_images_train, labels_categorical_train, batch_size=32),\n",
    "                      steps_per_epoch = np_images_train.shape[0],\n",
    "                      epochs = 30,\n",
    "                      callbacks=[ModelCheckpoint('model_data_aug_64_64_det.h5',save_best_only = False)])"
   ]
  },
  {
   "cell_type": "code",
   "execution_count": 10,
   "metadata": {},
   "outputs": [
    {
     "name": "stdout",
     "output_type": "stream",
     "text": [
      "14726/14726 [==============================] - 21s 1ms/step\n",
      "Test loss: 1.3957837319488309\n",
      "Test accuracy: 0.775023767486079\n"
     ]
    }
   ],
   "source": [
    "# Evaluación del modelo\n",
    "test_loss, test_acc = model_2.evaluate(np_images_test, labels_categorical_test)\n",
    "print('Test loss:', test_loss)\n",
    "print('Test accuracy:', test_acc)"
   ]
  },
  {
   "cell_type": "code",
   "execution_count": null,
   "metadata": {},
   "outputs": [],
   "source": []
  }
 ],
 "metadata": {
  "kernelspec": {
   "display_name": "Python 3",
   "language": "python",
   "name": "python3"
  },
  "language_info": {
   "codemirror_mode": {
    "name": "ipython",
    "version": 3
   },
   "file_extension": ".py",
   "mimetype": "text/x-python",
   "name": "python",
   "nbconvert_exporter": "python",
   "pygments_lexer": "ipython3",
   "version": "3.6.5"
  }
 },
 "nbformat": 4,
 "nbformat_minor": 2
}
