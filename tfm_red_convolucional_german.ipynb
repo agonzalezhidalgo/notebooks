{
 "cells": [
  {
   "cell_type": "markdown",
   "metadata": {},
   "source": [
    "# Reconocimiento de señales de tráfico\n",
    "### Máster Universitario en Ingeniería computacional y matemática - Área de inteligencia artificial\n",
    "### Antonio González Hidalgo (agonzalezhidalgo@uoc.edu)\n",
    "\n",
    "Usando una red neuronal convolucional.\n",
    "\n",
    "Para la correcta funcionamiento de este notebook, el notebook debe de estar estructurado de la siguiente manera:\n",
    "\n",
    "- ./dataset\n",
    "- ./dataset/info.csv          Fichero que contiene los nombres de las señales correspondientes.\n",
    "- ./dataset/train/Images      Conjunto de imágenes que formarán el entrenamiento de la red neuronal.\n",
    "- ./dataset/test/info.csv.    Fichero que contiene las categórias de las imágenes de test.\n",
    "- ./dataset/test/Images       Conjunto de imágenes que constituirán el test."
   ]
  },
  {
   "cell_type": "markdown",
   "metadata": {},
   "source": [
    "Para este notebook se ha usado el dataset _The German Traffic Sign Recognition Benchmark(GTSRB)_ http://benchmark.ini.rub.de/?section=gtsrb&subsection=news"
   ]
  },
  {
   "cell_type": "code",
   "execution_count": 1,
   "metadata": {},
   "outputs": [
    {
     "name": "stdout",
     "output_type": "stream",
     "text": [
      "importing Jupyter notebook from tfm_generic_functions.ipynb\n"
     ]
    },
    {
     "name": "stderr",
     "output_type": "stream",
     "text": [
      "Using TensorFlow backend.\n"
     ]
    }
   ],
   "source": [
    "import import_ipynb\n",
    "import tfm_generic_functions as traffic\n",
    "\n",
    "# https://docs.python.org/3/library/os.html\n",
    "import os\n",
    "\n",
    "# https://docs.scipy.org/doc/numpy/reference/\n",
    "import numpy as np\n",
    "\n",
    "# https://keras.io/models/model/\n",
    "import keras\n",
    "\n",
    "from keras import models\n",
    "\n",
    "# Core Layers: https://keras.io/layers/core/\n",
    "# Convolution Layers: https://keras.io/layers/convolutional/\n",
    "from keras import layers\n",
    "\n",
    "# https://keras.io/preprocessing/image/\n",
    "from keras.preprocessing.image import ImageDataGenerator\n",
    "\n",
    "# https://keras.io/callbacks/\n",
    "from keras.callbacks import ModelCheckpoint"
   ]
  },
  {
   "cell_type": "code",
   "execution_count": 2,
   "metadata": {},
   "outputs": [
    {
     "name": "stdout",
     "output_type": "stream",
     "text": [
      "Tamaño de las imágenes de entrada:  (32, 32)\n",
      "Vectorizando la entrada, sería de un tamaño:  1024\n"
     ]
    }
   ],
   "source": [
    "# Obtenemos el directorio actual como trabajo.\n",
    "ROOT_PATH = os.getcwd()\n",
    "\n",
    "# Establecemos la dimensión de las imágenes.\n",
    "IMG_SHAPE = (32, 32)\n",
    "\n",
    "# Configurando la CNN\n",
    "EPOCHS = 25\n",
    "BATCH_SIZES = 128\n",
    "ACTIVATION = 'selu'\n",
    "OPTIMIZER = 'rmsprop'\n",
    "\n",
    "print(\"Tamaño de las imágenes de entrada: \", IMG_SHAPE)\n",
    "IMG_SHAPE_LEN = IMG_SHAPE[0] * IMG_SHAPE[1]\n",
    "print(\"Vectorizando la entrada, sería de un tamaño: \", IMG_SHAPE_LEN)\n",
    "\n",
    "# Obtenemos los paths de trabajo\n",
    "labels_path = os.path.join(ROOT_PATH, \"dataset_ger/labels.csv\")\n",
    "train_path = os.path.join(ROOT_PATH, \"dataset_ger/train/Images\")\n",
    "test_info_path = os.path.join(ROOT_PATH, \"dataset_ger/test/GT-final_test.csv\")\n",
    "test_path = os.path.join(ROOT_PATH, \"dataset_ger/test/Images\")"
   ]
  },
  {
   "cell_type": "code",
   "execution_count": 3,
   "metadata": {},
   "outputs": [
    {
     "name": "stdout",
     "output_type": "stream",
     "text": [
      "Total images (train):  39209\n",
      "Total labels (train):  43\n",
      "Images shape:  (39209, 32, 32, 3)\n",
      "Labels shape:  (39209,)\n",
      "Titles total:  43\n"
     ]
    }
   ],
   "source": [
    "# Cargamos las imágenes de entrenamiento.\n",
    "images_train, labels_train = traffic.readDataset(train_path, IMG_SHAPE, False)\n",
    "\n",
    "# Convertimos las listas a array numpy de float32\n",
    "np_images_train = np.asarray(images_train, dtype = np.float32)\n",
    "np_labels_train = np.asarray(labels_train, dtype = np.int8)\n",
    "\n",
    "# Recuperamos los nombres de las categorias. Los diferentes tipo de señales\n",
    "# que se van a clasificar.\n",
    "titles = traffic.read_csv(labels_path, \",\")\n",
    "\n",
    "# Se imprime información de los datos cargados.\n",
    "traffic.print_size_dataset(images_train, labels_train, np_images_train, np_labels_train, \"train\")\n",
    "print(\"Titles total: \", len(titles))"
   ]
  },
  {
   "cell_type": "code",
   "execution_count": 4,
   "metadata": {},
   "outputs": [
    {
     "name": "stdout",
     "output_type": "stream",
     "text": [
      "Total images (test):  12630\n",
      "Total labels (test):  43\n",
      "Images shape:  (12630, 32, 32, 3)\n",
      "Labels shape:  (12630,)\n"
     ]
    }
   ],
   "source": [
    "# Cargamos las imágenes de entrenamiento.\n",
    "images_test, labels_test = traffic.readDataset(test_path, IMG_SHAPE, False, False)\n",
    "\n",
    "test_info  = traffic.read_csv(test_info_path, \";\")\n",
    "labels_test = traffic.get_class_id_array(test_info, 7)\n",
    "\n",
    "# Convertimos las listas a array numpy de float32\n",
    "np_images_test = np.asarray(images_test, dtype = np.float32)\n",
    "np_labels_test = np.asarray(labels_test, dtype = np.int8)\n",
    "\n",
    "# Se imprime información de los datos cargados.\n",
    "traffic.print_size_dataset(images_test, labels_test, np_images_test, np_labels_test, \"test\")"
   ]
  },
  {
   "cell_type": "code",
   "execution_count": 5,
   "metadata": {},
   "outputs": [
    {
     "name": "stdout",
     "output_type": "stream",
     "text": [
      "Ejemplo primera imagen de manera categórica:  [0. 0. 0. 0. 0. 0. 0. 0. 0. 0. 0. 0. 0. 0. 0. 0. 0. 0. 0. 0. 0. 0. 0. 0.\n",
      " 0. 0. 0. 0. 0. 0. 0. 1. 0. 0. 0. 0. 0. 0. 0. 0. 0. 0. 0.]\n"
     ]
    }
   ],
   "source": [
    "# Convertimos las labels de manera categórica\n",
    "labels_categorical_train = keras.utils.to_categorical(np_labels_train)\n",
    "labels_categorical_test = keras.utils.to_categorical(np_labels_test)\n",
    "\n",
    "print(\"Ejemplo primera imagen de manera categórica: \", labels_categorical_train[0])"
   ]
  },
  {
   "cell_type": "code",
   "execution_count": 6,
   "metadata": {},
   "outputs": [],
   "source": [
    "def get_keras_model(activation):\n",
    "    # IMPLEMENTACIÓN RED NEURONAL\n",
    "    # En Keras la envoltura para cualquier red neuronal se crea con la clase Sequential\n",
    "    model = models.Sequential()\n",
    "\n",
    "    model.add(layers.Conv2D(32, (5, 5),\n",
    "                            activation=activation, input_shape=(IMG_SHAPE[0], IMG_SHAPE[1], 3)))\n",
    "    model.add(layers.MaxPooling2D(2, 2))\n",
    "    model.add(layers.Dropout(0.2))\n",
    "\n",
    "    model.add(layers.Conv2D(64, (5, 5), activation=activation))\n",
    "    model.add(layers.MaxPooling2D(2, 2))\n",
    "    model.add(layers.Dropout(0.2))\n",
    "\n",
    "    model.add(layers.MaxPooling2D(2, 2))\n",
    "    model.add(layers.Dropout(0.2))\n",
    "\n",
    "    model.add(layers.Flatten())\n",
    "    model.add(layers.Dense(len(set(labels_train)), activation='softmax'))\n",
    "    return model\n"
   ]
  },
  {
   "cell_type": "code",
   "execution_count": 7,
   "metadata": {
    "scrolled": false
   },
   "outputs": [
    {
     "name": "stdout",
     "output_type": "stream",
     "text": [
      "WARNING:tensorflow:From /Users/togohi/traffic/lib/python3.6/site-packages/tensorflow/python/framework/op_def_library.py:263: colocate_with (from tensorflow.python.framework.ops) is deprecated and will be removed in a future version.\n",
      "Instructions for updating:\n",
      "Colocations handled automatically by placer.\n",
      "WARNING:tensorflow:From /Users/togohi/traffic/lib/python3.6/site-packages/keras/backend/tensorflow_backend.py:3445: calling dropout (from tensorflow.python.ops.nn_ops) with keep_prob is deprecated and will be removed in a future version.\n",
      "Instructions for updating:\n",
      "Please use `rate` instead of `keep_prob`. Rate should be set to `rate = 1 - keep_prob`.\n",
      "_________________________________________________________________\n",
      "Layer (type)                 Output Shape              Param #   \n",
      "=================================================================\n",
      "conv2d_1 (Conv2D)            (None, 28, 28, 32)        2432      \n",
      "_________________________________________________________________\n",
      "max_pooling2d_1 (MaxPooling2 (None, 14, 14, 32)        0         \n",
      "_________________________________________________________________\n",
      "dropout_1 (Dropout)          (None, 14, 14, 32)        0         \n",
      "_________________________________________________________________\n",
      "conv2d_2 (Conv2D)            (None, 10, 10, 64)        51264     \n",
      "_________________________________________________________________\n",
      "max_pooling2d_2 (MaxPooling2 (None, 5, 5, 64)          0         \n",
      "_________________________________________________________________\n",
      "dropout_2 (Dropout)          (None, 5, 5, 64)          0         \n",
      "_________________________________________________________________\n",
      "max_pooling2d_3 (MaxPooling2 (None, 2, 2, 64)          0         \n",
      "_________________________________________________________________\n",
      "dropout_3 (Dropout)          (None, 2, 2, 64)          0         \n",
      "_________________________________________________________________\n",
      "flatten_1 (Flatten)          (None, 256)               0         \n",
      "_________________________________________________________________\n",
      "dense_1 (Dense)              (None, 43)                11051     \n",
      "=================================================================\n",
      "Total params: 64,747\n",
      "Trainable params: 64,747\n",
      "Non-trainable params: 0\n",
      "_________________________________________________________________\n",
      "WARNING:tensorflow:From /Users/togohi/traffic/lib/python3.6/site-packages/tensorflow/python/ops/math_ops.py:3066: to_int32 (from tensorflow.python.ops.math_ops) is deprecated and will be removed in a future version.\n",
      "Instructions for updating:\n",
      "Use tf.cast instead.\n",
      "Epoch 1/25\n",
      " - 73s - loss: 1.8212 - acc: 0.5100\n",
      "Epoch 2/25\n",
      " - 72s - loss: 0.6284 - acc: 0.8214\n",
      "Epoch 3/25\n",
      " - 72s - loss: 0.3446 - acc: 0.9045\n",
      "Epoch 4/25\n",
      " - 72s - loss: 0.2389 - acc: 0.9343\n",
      "Epoch 5/25\n",
      " - 71s - loss: 0.1732 - acc: 0.9522\n",
      "Epoch 6/25\n",
      " - 71s - loss: 0.1492 - acc: 0.9597\n",
      "Epoch 7/25\n",
      " - 70s - loss: 0.1210 - acc: 0.9662\n",
      "Epoch 8/25\n",
      " - 70s - loss: 0.1062 - acc: 0.9719\n",
      "Epoch 9/25\n",
      " - 70s - loss: 0.0970 - acc: 0.9733\n",
      "Epoch 10/25\n",
      " - 70s - loss: 0.0842 - acc: 0.9775\n",
      "Epoch 11/25\n",
      " - 70s - loss: 0.0794 - acc: 0.9777\n",
      "Epoch 12/25\n",
      " - 70s - loss: 0.0723 - acc: 0.9804\n",
      "Epoch 13/25\n",
      " - 70s - loss: 0.0697 - acc: 0.9802\n",
      "Epoch 14/25\n",
      " - 70s - loss: 0.0665 - acc: 0.9830\n",
      "Epoch 15/25\n",
      " - 71s - loss: 0.0612 - acc: 0.9832\n",
      "Epoch 16/25\n",
      " - 71s - loss: 0.0616 - acc: 0.9836\n",
      "Epoch 17/25\n",
      " - 71s - loss: 0.0586 - acc: 0.9834\n",
      "Epoch 18/25\n",
      " - 71s - loss: 0.0544 - acc: 0.9850\n",
      "Epoch 19/25\n",
      " - 71s - loss: 0.0564 - acc: 0.9856\n",
      "Epoch 20/25\n",
      " - 71s - loss: 0.0511 - acc: 0.9858\n",
      "Epoch 21/25\n",
      " - 70s - loss: 0.0458 - acc: 0.9874\n",
      "Epoch 22/25\n",
      " - 70s - loss: 0.0496 - acc: 0.9866\n",
      "Epoch 23/25\n",
      " - 71s - loss: 0.0457 - acc: 0.9869\n",
      "Epoch 24/25\n",
      " - 70s - loss: 0.0431 - acc: 0.9882\n",
      "Epoch 25/25\n",
      " - 71s - loss: 0.0468 - acc: 0.9874\n",
      "12630/12630 [==============================] - 7s 541us/step\n",
      "Test loss: 15.099030353639773\n",
      "Test accuracy: 0.03737133808392716\n"
     ]
    }
   ],
   "source": [
    "model = get_keras_model(ACTIVATION)\n",
    "\n",
    "# Muestra la arquitectura de nuestra red neuronal\n",
    "model.summary()\n",
    "\n",
    "# Configurando el modelo de aprendijaze:\n",
    "#  · loss, función para evaluar el grado de error entre salidas calculadas\n",
    "#  · optimizador, función para calcular los pesos de los parámetros a partir de los datos de entrada\n",
    "#  · metricas, para monitorizar el proceso de aprendizaje de la red.\n",
    "model.compile(loss=\"categorical_crossentropy\",\n",
    "             optimizer=OPTIMIZER,\n",
    "             metrics=['accuracy'])\n",
    "\n",
    "# Entrenamiento del modelo\n",
    "# - batch_size, indica el número de datos que se usan en cada actualización.\n",
    "# - epochs, indica el número de veces que se usan todos los datos del proceso.\n",
    "#model.fit(np_images_train, labels_categorical_train, batch_size=32, epochs=20)\n",
    "model.fit(np_images_train, labels_categorical_train,\n",
    "          batch_size = BATCH_SIZES,\n",
    "          verbose = 2,\n",
    "          epochs = EPOCHS,\n",
    "          callbacks=[ModelCheckpoint('model_32_32_ger.h5', save_best_only = False)])\n",
    "\n",
    "# Evaluación del modelo\n",
    "test_loss, test_acc = model.evaluate(np_images_test, labels_categorical_test)\n",
    "print('Test loss:', test_loss)\n",
    "print('Test accuracy:', test_acc)"
   ]
  },
  {
   "cell_type": "code",
   "execution_count": 8,
   "metadata": {},
   "outputs": [],
   "source": [
    "datagen = ImageDataGenerator(featurewise_center=False,\n",
    "                             featurewise_std_normalization=False, \n",
    "                             width_shift_range=0.1,\n",
    "                             height_shift_range=0.1,\n",
    "                             zoom_range=0.2,\n",
    "                             shear_range=0.1,\n",
    "                             rotation_range=10.,)\n",
    "\n",
    "datagen.fit(np_images_test)"
   ]
  },
  {
   "cell_type": "code",
   "execution_count": 9,
   "metadata": {},
   "outputs": [
    {
     "name": "stdout",
     "output_type": "stream",
     "text": [
      "Epoch 1/25\n",
      " - 2573s - loss: 0.4098 - acc: 0.8891\n",
      "Epoch 2/25\n",
      " - 2552s - loss: 0.2366 - acc: 0.9408\n",
      "Epoch 3/25\n",
      " - 2474s - loss: 0.2084 - acc: 0.9488\n",
      "Epoch 4/25\n",
      " - 2566s - loss: 0.1931 - acc: 0.9530\n",
      "Epoch 5/25\n",
      " - 2556s - loss: 0.1836 - acc: 0.9556\n",
      "Epoch 6/25\n",
      " - 2648s - loss: 0.1767 - acc: 0.9577\n",
      "Epoch 7/25\n",
      " - 1881s - loss: 0.1746 - acc: 0.9589\n",
      "Epoch 8/25\n",
      " - 1470s - loss: 0.1711 - acc: 0.9597\n",
      "Epoch 9/25\n",
      " - 1522s - loss: 0.1709 - acc: 0.9603\n",
      "Epoch 10/25\n",
      " - 1499s - loss: 0.1694 - acc: 0.9610\n",
      "Epoch 11/25\n",
      " - 1542s - loss: 0.1713 - acc: 0.9610\n",
      "Epoch 12/25\n",
      " - 1536s - loss: 0.1705 - acc: 0.9612\n",
      "Epoch 13/25\n",
      " - 1530s - loss: 0.1681 - acc: 0.9622\n",
      "Epoch 14/25\n",
      " - 1543s - loss: 0.1702 - acc: 0.9619\n",
      "Epoch 15/25\n",
      " - 1522s - loss: 0.1699 - acc: 0.9621\n",
      "Epoch 16/25\n",
      " - 1523s - loss: 0.1682 - acc: 0.9621\n",
      "Epoch 17/25\n",
      " - 1543s - loss: 0.1685 - acc: 0.9627\n",
      "Epoch 18/25\n",
      " - 1548s - loss: 0.1696 - acc: 0.9624\n",
      "Epoch 19/25\n",
      " - 1574s - loss: 0.1714 - acc: 0.9626\n",
      "Epoch 20/25\n",
      " - 1580s - loss: 0.1706 - acc: 0.9630\n",
      "Epoch 21/25\n",
      " - 1549s - loss: 0.1697 - acc: 0.9631\n",
      "Epoch 22/25\n",
      " - 1444s - loss: 0.1732 - acc: 0.9626\n",
      "Epoch 23/25\n",
      " - 1393s - loss: 0.1738 - acc: 0.9622\n",
      "Epoch 24/25\n",
      " - 1444s - loss: 0.1729 - acc: 0.9625\n",
      "Epoch 25/25\n",
      " - 1748s - loss: 0.1723 - acc: 0.9628\n"
     ]
    },
    {
     "data": {
      "text/plain": [
       "<keras.callbacks.History at 0x164ae2b38>"
      ]
     },
     "execution_count": 9,
     "metadata": {},
     "output_type": "execute_result"
    }
   ],
   "source": [
    "model_2 = get_keras_model(ACTIVATION)\n",
    "\n",
    "model_2.compile(loss=\"categorical_crossentropy\",\n",
    "             optimizer=OPTIMIZER,\n",
    "             metrics=['accuracy'])\n",
    "\n",
    "model_2.fit_generator(datagen.flow(np_images_train, labels_categorical_train, batch_size=32),\n",
    "                      steps_per_epoch = np_images_train.shape[0],\n",
    "                      epochs = EPOCHS,\n",
    "                      verbose = 2,\n",
    "                      callbacks=[ModelCheckpoint('model_data_aug_32_32_ger.h5',save_best_only = False)])"
   ]
  },
  {
   "cell_type": "code",
   "execution_count": 10,
   "metadata": {
    "scrolled": true
   },
   "outputs": [
    {
     "name": "stdout",
     "output_type": "stream",
     "text": [
      "12630/12630 [==============================] - 5s 403us/step\n",
      "Test loss: 15.23345929626803\n",
      "Test accuracy: 0.037925574030087096\n"
     ]
    }
   ],
   "source": [
    "# Evaluación del modelo\n",
    "test_loss, test_acc = model_2.evaluate(np_images_test, labels_categorical_test)\n",
    "print('Test loss:', test_loss)\n",
    "print('Test accuracy:', test_acc)"
   ]
  },
  {
   "cell_type": "code",
   "execution_count": null,
   "metadata": {},
   "outputs": [],
   "source": []
  }
 ],
 "metadata": {
  "kernelspec": {
   "display_name": "Python 3",
   "language": "python",
   "name": "python3"
  },
  "language_info": {
   "codemirror_mode": {
    "name": "ipython",
    "version": 3
   },
   "file_extension": ".py",
   "mimetype": "text/x-python",
   "name": "python",
   "nbconvert_exporter": "python",
   "pygments_lexer": "ipython3",
   "version": "3.6.5"
  }
 },
 "nbformat": 4,
 "nbformat_minor": 2
}
