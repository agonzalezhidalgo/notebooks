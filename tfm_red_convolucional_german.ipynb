{
 "cells": [
  {
   "cell_type": "markdown",
   "metadata": {},
   "source": [
    "# Reconocimiento de señales de tráfico\n",
    "### Máster Universitario en Ingeniería computacional y matemática - Área de inteligencia artificial\n",
    "### Antonio González Hidalgo (agonzalezhidalgo@uoc.edu)\n",
    "\n",
    "Usando una red neuronal convolucional.\n",
    "\n",
    "Para la correcta funcionamiento de este notebook, el notebook debe de estar estructurado de la siguiente manera:\n",
    "\n",
    "- ./dataset\n",
    "- ./dataset/info.csv          Fichero que contiene los nombres de las señales correspondientes.\n",
    "- ./dataset/train/Images      Conjunto de imágenes que formarán el entrenamiento de la red neuronal.\n",
    "- ./dataset/test/info.csv.    Fichero que contiene las categórias de las imágenes de test.\n",
    "- ./dataset/test/Images       Conjunto de imágenes que constituirán el test."
   ]
  },
  {
   "cell_type": "markdown",
   "metadata": {},
   "source": [
    "Para este notebook se ha usado el dataset _The German Traffic Sign Recognition Benchmark(GTSRB)_ http://benchmark.ini.rub.de/?section=gtsrb&subsection=news"
   ]
  },
  {
   "cell_type": "code",
   "execution_count": 1,
   "metadata": {},
   "outputs": [
    {
     "name": "stdout",
     "output_type": "stream",
     "text": [
      "importing Jupyter notebook from tfm_generic_functions.ipynb\n"
     ]
    },
    {
     "name": "stderr",
     "output_type": "stream",
     "text": [
      "Using TensorFlow backend.\n"
     ]
    }
   ],
   "source": [
    "import import_ipynb\n",
    "import tfm_generic_functions as traffic\n",
    "\n",
    "# https://docs.python.org/3/library/os.html\n",
    "import os\n",
    "\n",
    "# https://docs.scipy.org/doc/numpy/reference/\n",
    "import numpy as np\n",
    "\n",
    "# https://keras.io/models/model/\n",
    "import keras\n",
    "\n",
    "from keras import models\n",
    "\n",
    "# Core Layers: https://keras.io/layers/core/\n",
    "# Convolution Layers: https://keras.io/layers/convolutional/\n",
    "from keras import layers\n",
    "\n",
    "# https://keras.io/preprocessing/image/\n",
    "from keras.preprocessing.image import ImageDataGenerator\n",
    "\n",
    "# https://keras.io/callbacks/\n",
    "from keras.callbacks import ModelCheckpoint"
   ]
  },
  {
   "cell_type": "code",
   "execution_count": 2,
   "metadata": {},
   "outputs": [
    {
     "name": "stdout",
     "output_type": "stream",
     "text": [
      "Tamaño de las imágenes de entrada:  (32, 32)\n",
      "Vectorizando la entrada, sería de un tamaño:  1024\n"
     ]
    }
   ],
   "source": [
    "# Obtenemos el directorio actual como trabajo.\n",
    "ROOT_PATH = os.getcwd()\n",
    "\n",
    "# Establecemos la dimensión de las imágenes.\n",
    "IMG_SHAPE = (32, 32)\n",
    "print(\"Tamaño de las imágenes de entrada: \", IMG_SHAPE)\n",
    "IMG_SHAPE_LEN = IMG_SHAPE[0] * IMG_SHAPE[1]\n",
    "print(\"Vectorizando la entrada, sería de un tamaño: \", IMG_SHAPE_LEN)\n",
    "\n",
    "# Obtenemos los paths de trabajo\n",
    "labels_path = os.path.join(ROOT_PATH, \"dataset_ger/labels.csv\")\n",
    "train_path = os.path.join(ROOT_PATH, \"dataset_ger/train/Images\")\n",
    "test_info_path = os.path.join(ROOT_PATH, \"dataset_ger/test/GT-final_test.csv\")\n",
    "test_path = os.path.join(ROOT_PATH, \"dataset_ger/test/Images\")"
   ]
  },
  {
   "cell_type": "code",
   "execution_count": 3,
   "metadata": {},
   "outputs": [
    {
     "name": "stdout",
     "output_type": "stream",
     "text": [
      "Total images (train):  39209\n",
      "Total labels (train):  43\n",
      "Images shape:  (39209, 32, 32, 3)\n",
      "Labels shape:  (39209,)\n",
      "Titles total:  43\n"
     ]
    }
   ],
   "source": [
    "# Cargamos las imágenes de entrenamiento.\n",
    "images_train, labels_train = traffic.readDataset(train_path, IMG_SHAPE, False)\n",
    "\n",
    "# Convertimos las listas a array numpy de float32\n",
    "np_images_train = np.asarray(images_train, dtype = np.float32)\n",
    "np_labels_train = np.asarray(labels_train, dtype = np.int8)\n",
    "\n",
    "# Recuperamos los nombres de las categorias. Los diferentes tipo de señales\n",
    "# que se van a clasificar.\n",
    "titles = traffic.read_csv(labels_path, \",\")\n",
    "\n",
    "# Se imprime información de los datos cargados.\n",
    "traffic.print_size_dataset(images_train, labels_train, np_images_train, np_labels_train, \"train\")\n",
    "print(\"Titles total: \", len(titles))"
   ]
  },
  {
   "cell_type": "code",
   "execution_count": 4,
   "metadata": {},
   "outputs": [
    {
     "name": "stdout",
     "output_type": "stream",
     "text": [
      "Total images (test):  12630\n",
      "Total labels (test):  43\n",
      "Images shape:  (12630, 32, 32, 3)\n",
      "Labels shape:  (12630,)\n"
     ]
    }
   ],
   "source": [
    "# Cargamos las imágenes de entrenamiento.\n",
    "images_test, labels_test = traffic.readDataset(test_path, IMG_SHAPE, False, False)\n",
    "\n",
    "test_info  = traffic.read_csv(test_info_path, \";\")\n",
    "labels_test = traffic.get_class_id_array(test_info, 7)\n",
    "\n",
    "# Convertimos las listas a array numpy de float32\n",
    "np_images_test = np.asarray(images_test, dtype = np.float32)\n",
    "np_labels_test = np.asarray(labels_test, dtype = np.int8)\n",
    "\n",
    "# Se imprime información de los datos cargados.\n",
    "traffic.print_size_dataset(images_test, labels_test, np_images_test, np_labels_test, \"test\")"
   ]
  },
  {
   "cell_type": "code",
   "execution_count": 5,
   "metadata": {},
   "outputs": [
    {
     "name": "stdout",
     "output_type": "stream",
     "text": [
      "Ejemplo primera imagen de manera categórica:  [0. 0. 0. 0. 0. 0. 0. 0. 0. 0. 0. 0. 0. 0. 0. 0. 0. 0. 0. 0. 0. 0. 0. 0.\n",
      " 0. 0. 0. 0. 0. 0. 0. 1. 0. 0. 0. 0. 0. 0. 0. 0. 0. 0. 0.]\n"
     ]
    }
   ],
   "source": [
    "# Convertimos las labels de manera categórica\n",
    "labels_categorical_train = keras.utils.to_categorical(np_labels_train)\n",
    "labels_categorical_test = keras.utils.to_categorical(np_labels_test)\n",
    "\n",
    "print(\"Ejemplo primera imagen de manera categórica: \", labels_categorical_train[0])"
   ]
  },
  {
   "cell_type": "code",
   "execution_count": 6,
   "metadata": {},
   "outputs": [],
   "source": [
    "def get_keras_model():\n",
    "    # IMPLEMENTACIÓN RED NEURONAL\n",
    "    # En Keras la envoltura para cualquier red neuronal se crea con la clase Sequential\n",
    "    model = models.Sequential()\n",
    "\n",
    "    model.add(layers.Conv2D(32, (5, 5),\n",
    "                            activation='relu', input_shape=(IMG_SHAPE[0], IMG_SHAPE[1], 3)))\n",
    "    model.add(layers.MaxPooling2D(2, 2))\n",
    "    model.add(layers.Dropout(0.2))\n",
    "\n",
    "    model.add(layers.Conv2D(64, (5, 5), activation='relu'))\n",
    "    model.add(layers.MaxPooling2D(2, 2))\n",
    "    model.add(layers.Dropout(0.2))\n",
    "\n",
    "    model.add(layers.MaxPooling2D(2, 2))\n",
    "    model.add(layers.Dropout(0.2))\n",
    "\n",
    "    model.add(layers.Flatten())\n",
    "    model.add(layers.Dense(len(set(labels_train)), activation='softmax'))\n",
    "    return model\n"
   ]
  },
  {
   "cell_type": "code",
   "execution_count": 7,
   "metadata": {
    "scrolled": false
   },
   "outputs": [
    {
     "name": "stdout",
     "output_type": "stream",
     "text": [
      "WARNING:tensorflow:From /Users/togohi/traffic/lib/python3.6/site-packages/tensorflow/python/framework/op_def_library.py:263: colocate_with (from tensorflow.python.framework.ops) is deprecated and will be removed in a future version.\n",
      "Instructions for updating:\n",
      "Colocations handled automatically by placer.\n",
      "WARNING:tensorflow:From /Users/togohi/traffic/lib/python3.6/site-packages/keras/backend/tensorflow_backend.py:3445: calling dropout (from tensorflow.python.ops.nn_ops) with keep_prob is deprecated and will be removed in a future version.\n",
      "Instructions for updating:\n",
      "Please use `rate` instead of `keep_prob`. Rate should be set to `rate = 1 - keep_prob`.\n",
      "_________________________________________________________________\n",
      "Layer (type)                 Output Shape              Param #   \n",
      "=================================================================\n",
      "conv2d_1 (Conv2D)            (None, 28, 28, 32)        2432      \n",
      "_________________________________________________________________\n",
      "max_pooling2d_1 (MaxPooling2 (None, 14, 14, 32)        0         \n",
      "_________________________________________________________________\n",
      "dropout_1 (Dropout)          (None, 14, 14, 32)        0         \n",
      "_________________________________________________________________\n",
      "conv2d_2 (Conv2D)            (None, 10, 10, 64)        51264     \n",
      "_________________________________________________________________\n",
      "max_pooling2d_2 (MaxPooling2 (None, 5, 5, 64)          0         \n",
      "_________________________________________________________________\n",
      "dropout_2 (Dropout)          (None, 5, 5, 64)          0         \n",
      "_________________________________________________________________\n",
      "max_pooling2d_3 (MaxPooling2 (None, 2, 2, 64)          0         \n",
      "_________________________________________________________________\n",
      "dropout_3 (Dropout)          (None, 2, 2, 64)          0         \n",
      "_________________________________________________________________\n",
      "flatten_1 (Flatten)          (None, 256)               0         \n",
      "_________________________________________________________________\n",
      "dense_1 (Dense)              (None, 43)                11051     \n",
      "=================================================================\n",
      "Total params: 64,747\n",
      "Trainable params: 64,747\n",
      "Non-trainable params: 0\n",
      "_________________________________________________________________\n",
      "WARNING:tensorflow:From /Users/togohi/traffic/lib/python3.6/site-packages/tensorflow/python/ops/math_ops.py:3066: to_int32 (from tensorflow.python.ops.math_ops) is deprecated and will be removed in a future version.\n",
      "Instructions for updating:\n",
      "Use tf.cast instead.\n",
      "Epoch 1/30\n",
      "39209/39209 [==============================] - 38s 979us/step - loss: 3.2779 - acc: 0.1552\n",
      "Epoch 2/30\n",
      "39209/39209 [==============================] - 37s 937us/step - loss: 2.2330 - acc: 0.3915\n",
      "Epoch 3/30\n",
      "39209/39209 [==============================] - 39s 987us/step - loss: 1.4371 - acc: 0.5896\n",
      "Epoch 4/30\n",
      "39209/39209 [==============================] - 38s 965us/step - loss: 0.9761 - acc: 0.7240\n",
      "Epoch 5/30\n",
      "39209/39209 [==============================] - 37s 947us/step - loss: 0.7152 - acc: 0.7983\n",
      "Epoch 6/30\n",
      "39209/39209 [==============================] - 36s 929us/step - loss: 0.5589 - acc: 0.8462\n",
      "Epoch 7/30\n",
      "39209/39209 [==============================] - 36s 926us/step - loss: 0.4616 - acc: 0.8731\n",
      "Epoch 8/30\n",
      "39209/39209 [==============================] - 35s 903us/step - loss: 0.3917 - acc: 0.8941\n",
      "Epoch 9/30\n",
      "39209/39209 [==============================] - 36s 923us/step - loss: 0.3389 - acc: 0.9086\n",
      "Epoch 10/30\n",
      "39209/39209 [==============================] - 36s 918us/step - loss: 0.3015 - acc: 0.9183\n",
      "Epoch 11/30\n",
      "39209/39209 [==============================] - 36s 916us/step - loss: 0.2759 - acc: 0.9262\n",
      "Epoch 12/30\n",
      "39209/39209 [==============================] - 37s 933us/step - loss: 0.2488 - acc: 0.9332\n",
      "Epoch 13/30\n",
      "39209/39209 [==============================] - 37s 937us/step - loss: 0.2283 - acc: 0.9386\n",
      "Epoch 14/30\n",
      "39209/39209 [==============================] - 37s 938us/step - loss: 0.2114 - acc: 0.9432\n",
      "Epoch 15/30\n",
      "39209/39209 [==============================] - 36s 930us/step - loss: 0.1963 - acc: 0.9487\n",
      "Epoch 16/30\n",
      "39209/39209 [==============================] - 35s 903us/step - loss: 0.1847 - acc: 0.9510\n",
      "Epoch 17/30\n",
      "39209/39209 [==============================] - 35s 896us/step - loss: 0.1758 - acc: 0.9527\n",
      "Epoch 18/30\n",
      "39209/39209 [==============================] - 36s 916us/step - loss: 0.1632 - acc: 0.9563\n",
      "Epoch 19/30\n",
      "39209/39209 [==============================] - 36s 922us/step - loss: 0.1578 - acc: 0.9579\n",
      "Epoch 20/30\n",
      "39209/39209 [==============================] - 37s 937us/step - loss: 0.1488 - acc: 0.9597\n",
      "Epoch 21/30\n",
      "39209/39209 [==============================] - 36s 925us/step - loss: 0.1402 - acc: 0.9613\n",
      "Epoch 22/30\n",
      "39209/39209 [==============================] - 36s 928us/step - loss: 0.1336 - acc: 0.9644\n",
      "Epoch 23/30\n",
      "39209/39209 [==============================] - 36s 925us/step - loss: 0.1296 - acc: 0.9657\n",
      "Epoch 24/30\n",
      "39209/39209 [==============================] - 37s 931us/step - loss: 0.1251 - acc: 0.9670\n",
      "Epoch 25/30\n",
      "39209/39209 [==============================] - 36s 917us/step - loss: 0.1237 - acc: 0.9668\n",
      "Epoch 26/30\n",
      "39209/39209 [==============================] - 35s 904us/step - loss: 0.1178 - acc: 0.9682\n",
      "Epoch 27/30\n",
      "39209/39209 [==============================] - 35s 898us/step - loss: 0.1140 - acc: 0.9685\n",
      "Epoch 28/30\n",
      "39209/39209 [==============================] - 35s 901us/step - loss: 0.1078 - acc: 0.9714\n",
      "Epoch 29/30\n",
      "39209/39209 [==============================] - 36s 915us/step - loss: 0.1061 - acc: 0.9710\n",
      "Epoch 30/30\n",
      "39209/39209 [==============================] - 36s 906us/step - loss: 0.1025 - acc: 0.9723\n",
      "12630/12630 [==============================] - 3s 245us/step\n",
      "Test loss: 13.369427991007777\n",
      "Test accuracy: 0.03737133808392716\n"
     ]
    }
   ],
   "source": [
    "model = get_keras_model()\n",
    "\n",
    "# Muestra la arquitectura de nuestra red neuronal\n",
    "model.summary()\n",
    "\n",
    "# Configurando el modelo de aprendijaze:\n",
    "#  · loss, función para evaluar el grado de error entre salidas calculadas\n",
    "#  · optimizador, función para calcular los pesos de los parámetros a partir de los datos de entrada\n",
    "#  · metricas, para monitorizar el proceso de aprendizaje de la red.\n",
    "model.compile(loss=\"categorical_crossentropy\",\n",
    "             optimizer=\"sgd\",\n",
    "             metrics=['accuracy'])\n",
    "\n",
    "# Entrenamiento del modelo\n",
    "# - batch_size, indica el número de datos que se usan en cada actualización.\n",
    "# - epochs, indica el número de veces que se usan todos los datos del proceso.\n",
    "#model.fit(np_images_train, labels_categorical_train, batch_size=32, epochs=20)\n",
    "model.fit(np_images_train, labels_categorical_train,\n",
    "          batch_size = 32,\n",
    "          epochs = 30,\n",
    "          callbacks=[ModelCheckpoint('model_32_32_ger.h5', save_best_only = False)])\n",
    "\n",
    "# Evaluación del modelo\n",
    "test_loss, test_acc = model.evaluate(np_images_test, labels_categorical_test)\n",
    "print('Test loss:', test_loss)\n",
    "print('Test accuracy:', test_acc)"
   ]
  },
  {
   "cell_type": "code",
   "execution_count": 8,
   "metadata": {},
   "outputs": [
    {
     "name": "stdout",
     "output_type": "stream",
     "text": [
      "12630/12630 [==============================] - 3s 228us/step\n",
      "Test loss: 13.369427991007777\n",
      "Test accuracy: 0.03737133808392716\n",
      "Test accuracy: 0.03737133808392716\n"
     ]
    }
   ],
   "source": [
    "# Evaluación del modelo\n",
    "test_loss, test_acc = model.evaluate(np_images_test, labels_categorical_test)\n",
    "print('Test loss:', test_loss)\n",
    "print('Test accuracy:', test_acc)\n",
    "\n",
    "y_pred = model.predict_classes(np_images_test)\n",
    "acc = np.sum(y_pred == np_labels_test) / np.size(np_labels_test)\n",
    "print(\"Test accuracy: {}\".format(acc))"
   ]
  },
  {
   "cell_type": "code",
   "execution_count": 9,
   "metadata": {},
   "outputs": [],
   "source": [
    "datagen = ImageDataGenerator(featurewise_center=False,\n",
    "                             featurewise_std_normalization=False, \n",
    "                             width_shift_range=0.1,\n",
    "                             height_shift_range=0.1,\n",
    "                             zoom_range=0.2,\n",
    "                             shear_range=0.1,\n",
    "                             rotation_range=10.,)\n",
    "\n",
    "datagen.fit(np_images_test)"
   ]
  },
  {
   "cell_type": "code",
   "execution_count": 10,
   "metadata": {},
   "outputs": [
    {
     "name": "stdout",
     "output_type": "stream",
     "text": [
      "Epoch 1/30\n",
      "39209/39209 [==============================] - 1118s 29ms/step - loss: 0.8248 - acc: 0.7648\n",
      "Epoch 2/30\n",
      "39209/39209 [==============================] - 1155s 29ms/step - loss: 0.2213 - acc: 0.9356\n",
      "Epoch 3/30\n",
      "39209/39209 [==============================] - 1151s 29ms/step - loss: 0.1527 - acc: 0.9553\n",
      "Epoch 4/30\n",
      "39209/39209 [==============================] - 1163s 30ms/step - loss: 0.1225 - acc: 0.9640\n",
      "Epoch 5/30\n",
      "39209/39209 [==============================] - 1185s 30ms/step - loss: 0.1044 - acc: 0.9693\n",
      "Epoch 6/30\n",
      "39209/39209 [==============================] - 1050s 27ms/step - loss: 0.0923 - acc: 0.9727\n",
      "Epoch 7/30\n",
      "39209/39209 [==============================] - 1021s 26ms/step - loss: 0.0839 - acc: 0.9751\n",
      "Epoch 8/30\n",
      "39209/39209 [==============================] - 1037s 26ms/step - loss: 0.0763 - acc: 0.9774\n",
      "Epoch 9/30\n",
      "39209/39209 [==============================] - 1052s 27ms/step - loss: 0.0716 - acc: 0.9786\n",
      "Epoch 10/30\n",
      "39209/39209 [==============================] - 1061s 27ms/step - loss: 0.0674 - acc: 0.9801\n",
      "Epoch 11/30\n",
      "39209/39209 [==============================] - 1059s 27ms/step - loss: 0.0635 - acc: 0.9811\n",
      "Epoch 12/30\n",
      "39209/39209 [==============================] - 1074s 27ms/step - loss: 0.0604 - acc: 0.9820\n",
      "Epoch 13/30\n",
      "39209/39209 [==============================] - 1060s 27ms/step - loss: 0.0582 - acc: 0.9827\n",
      "Epoch 14/30\n",
      "39209/39209 [==============================] - 1063s 27ms/step - loss: 0.0553 - acc: 0.9837\n",
      "Epoch 15/30\n",
      "39209/39209 [==============================] - 1069s 27ms/step - loss: 0.0534 - acc: 0.9840\n",
      "Epoch 16/30\n",
      "39209/39209 [==============================] - 1066s 27ms/step - loss: 0.0514 - acc: 0.9847\n",
      "Epoch 17/30\n",
      "39209/39209 [==============================] - 1075s 27ms/step - loss: 0.0500 - acc: 0.9850\n",
      "Epoch 18/30\n",
      "39209/39209 [==============================] - 1071s 27ms/step - loss: 0.0479 - acc: 0.9856\n",
      "Epoch 19/30\n",
      "39209/39209 [==============================] - 1077s 27ms/step - loss: 0.0468 - acc: 0.9860\n",
      "Epoch 20/30\n",
      "39209/39209 [==============================] - 1070s 27ms/step - loss: 0.0458 - acc: 0.9863\n",
      "Epoch 21/30\n",
      "39209/39209 [==============================] - 1073s 27ms/step - loss: 0.0451 - acc: 0.9866\n",
      "Epoch 22/30\n",
      "39209/39209 [==============================] - 1086s 28ms/step - loss: 0.0431 - acc: 0.9872\n",
      "Epoch 23/30\n",
      "39209/39209 [==============================] - 1122s 29ms/step - loss: 0.0423 - acc: 0.9873\n",
      "Epoch 24/30\n",
      "39209/39209 [==============================] - 1232s 31ms/step - loss: 0.0414 - acc: 0.9876\n",
      "Epoch 25/30\n",
      "39209/39209 [==============================] - 1173s 30ms/step - loss: 0.0409 - acc: 0.9878\n",
      "Epoch 26/30\n",
      "39209/39209 [==============================] - 1227s 31ms/step - loss: 0.0394 - acc: 0.9882\n",
      "Epoch 27/30\n",
      "39209/39209 [==============================] - 1177s 30ms/step - loss: 0.0397 - acc: 0.9881\n",
      "Epoch 28/30\n",
      "39209/39209 [==============================] - 1017s 26ms/step - loss: 0.0381 - acc: 0.9887\n",
      "Epoch 29/30\n",
      "39209/39209 [==============================] - 1010s 26ms/step - loss: 0.0377 - acc: 0.9888\n",
      "Epoch 30/30\n",
      "39209/39209 [==============================] - 1008s 26ms/step - loss: 0.0370 - acc: 0.9889\n"
     ]
    },
    {
     "data": {
      "text/plain": [
       "<keras.callbacks.History at 0x15960ff28>"
      ]
     },
     "execution_count": 10,
     "metadata": {},
     "output_type": "execute_result"
    }
   ],
   "source": [
    "model_2 = get_keras_model()\n",
    "\n",
    "model_2.compile(loss=\"categorical_crossentropy\",\n",
    "             optimizer=\"sgd\",\n",
    "             metrics=['accuracy'])\n",
    "\n",
    "model_2.fit_generator(datagen.flow(np_images_train, labels_categorical_train, batch_size=32),\n",
    "                      steps_per_epoch = np_images_train.shape[0],\n",
    "                      epochs = 30,\n",
    "                      callbacks=[ModelCheckpoint('model_data_aug_32_32_ger.h5',save_best_only = False)])"
   ]
  },
  {
   "cell_type": "code",
   "execution_count": 12,
   "metadata": {
    "scrolled": true
   },
   "outputs": [
    {
     "name": "stdout",
     "output_type": "stream",
     "text": [
      "12630/12630 [==============================] - 3s 212us/step\n",
      "Test loss: 15.011982926242615\n",
      "Test accuracy: 0.03784639746634996\n",
      "Test accuracy: 0.03784639746634996\n"
     ]
    }
   ],
   "source": [
    "# Evaluación del modelo\n",
    "test_loss, test_acc = model_2.evaluate(np_images_test, labels_categorical_test)\n",
    "print('Test loss:', test_loss)\n",
    "print('Test accuracy:', test_acc)\n",
    "\n",
    "y_pred = model_2.predict_classes(np_images_test)\n",
    "acc = np.sum(y_pred == np_labels_test) / np.size(np_labels_test)\n",
    "print(\"Test accuracy: {}\".format(acc))"
   ]
  },
  {
   "cell_type": "code",
   "execution_count": null,
   "metadata": {},
   "outputs": [],
   "source": []
  }
 ],
 "metadata": {
  "kernelspec": {
   "display_name": "Python 3",
   "language": "python",
   "name": "python3"
  },
  "language_info": {
   "codemirror_mode": {
    "name": "ipython",
    "version": 3
   },
   "file_extension": ".py",
   "mimetype": "text/x-python",
   "name": "python",
   "nbconvert_exporter": "python",
   "pygments_lexer": "ipython3",
   "version": "3.6.5"
  }
 },
 "nbformat": 4,
 "nbformat_minor": 2
}
