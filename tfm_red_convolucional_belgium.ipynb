{
 "cells": [
  {
   "cell_type": "markdown",
   "metadata": {},
   "source": [
    "# Reconocimiento de señales de tráfico\n",
    "### Máster Universitario en Ingeniería computacional y matemática - Área de inteligencia artificial\n",
    "### Antonio González Hidalgo (agonzalezhidalgo@uoc.edu)\n",
    "\n",
    "Usando una red neuronal convolucional.\n",
    "\n",
    "Para la correcta funcionamiento de este notebook, el notebook debe de estar estructurado de la siguiente manera:\n",
    "\n",
    "- ./dataset\n",
    "- ./dataset/info.csv          Fichero que contiene los nombres de las señales correspondientes.\n",
    "- ./dataset/train/Images      Conjunto de imágenes que formarán el entrenamiento de la red neuronal.\n",
    "- ./dataset/test/info.csv.    Fichero que contiene las categórias de las imágenes de test.\n",
    "- ./dataset/test/Images       Conjunto de imágenes que constituirán el test."
   ]
  },
  {
   "cell_type": "markdown",
   "metadata": {},
   "source": [
    "Este notebook se ha ejecutado usando el dataset de _BelgiumTS_\n",
    "https://btsd.ethz.ch/shareddata/"
   ]
  },
  {
   "cell_type": "code",
   "execution_count": 1,
   "metadata": {},
   "outputs": [
    {
     "name": "stdout",
     "output_type": "stream",
     "text": [
      "importing Jupyter notebook from tfm_generic_functions.ipynb\n"
     ]
    },
    {
     "name": "stderr",
     "output_type": "stream",
     "text": [
      "Using TensorFlow backend.\n"
     ]
    }
   ],
   "source": [
    "import import_ipynb\n",
    "import tfm_generic_functions as traffic\n",
    "\n",
    "# https://docs.python.org/3/library/os.html\n",
    "import os\n",
    "\n",
    "# https://docs.scipy.org/doc/numpy/reference/\n",
    "import numpy as np\n",
    "\n",
    "# https://keras.io/models/model/\n",
    "import keras\n",
    "\n",
    "from keras import models\n",
    "\n",
    "# Core Layers: https://keras.io/layers/core/\n",
    "# Convolution Layers: https://keras.io/layers/convolutional/\n",
    "from keras import layers\n",
    "\n",
    "# https://keras.io/preprocessing/image/\n",
    "from keras.preprocessing.image import ImageDataGenerator\n",
    "\n",
    "# https://keras.io/callbacks/\n",
    "from keras.callbacks import ModelCheckpoint"
   ]
  },
  {
   "cell_type": "code",
   "execution_count": 2,
   "metadata": {},
   "outputs": [
    {
     "name": "stdout",
     "output_type": "stream",
     "text": [
      "Tamaño de las imágenes de entrada:  (64, 64)\n",
      "Vectorizando la entrada, sería de un tamaño:  4096\n"
     ]
    }
   ],
   "source": [
    "# Obtenemos el directorio actual como trabajo.\n",
    "ROOT_PATH = os.getcwd()\n",
    "\n",
    "# Establecemos la dimensión de las imágenes.\n",
    "IMG_SHAPE = (64, 64)\n",
    "\n",
    "# Configuramos la CNN\n",
    "EPOCHS = 25\n",
    "BATCH_SIZE = 128\n",
    "ACTIVATION = 'selu'\n",
    "OPTIMIZER = 'rmsprop'\n",
    "\n",
    "print(\"Tamaño de las imágenes de entrada: \", IMG_SHAPE)\n",
    "IMG_SHAPE_LEN = IMG_SHAPE[0] * IMG_SHAPE[1]\n",
    "print(\"Vectorizando la entrada, sería de un tamaño: \", IMG_SHAPE_LEN)\n",
    "\n",
    "# Obtenemos los paths de trabajo\n",
    "labels_path = os.path.join(ROOT_PATH, \"dataset_bel/labels.csv\")\n",
    "train_path = os.path.join(ROOT_PATH, \"dataset_bel/train\")\n",
    "test_path = os.path.join(ROOT_PATH, \"dataset_bel/test\")"
   ]
  },
  {
   "cell_type": "code",
   "execution_count": 3,
   "metadata": {},
   "outputs": [
    {
     "name": "stdout",
     "output_type": "stream",
     "text": [
      "Total images (train):  4575\n",
      "Total labels (train):  62\n",
      "Images shape:  (4575, 64, 64, 3)\n",
      "Labels shape:  (4575,)\n",
      "Total images (test):  2520\n",
      "Total labels (test):  53\n",
      "Images shape:  (2520, 64, 64, 3)\n",
      "Labels shape:  (2520,)\n",
      "Titles total:  62\n",
      "Signal:  A31\n",
      "shape:  (64, 64, 3) \tmin: 0.006495098039215797 \tmax:  0.996078431372549\n",
      "shape:  (64, 64, 3) \tmin: 0.012683823529412096 \tmax:  1.0\n",
      "shape:  (64, 64, 3) \tmin: 0.041330135569853536 \tmax:  1.0\n",
      "shape:  (64, 64, 3) \tmin: 0.03529411764705882 \tmax:  0.996078431372549\n",
      "shape:  (64, 64, 3) \tmin: 0.022579656862744574 \tmax:  0.996078431372549\n",
      "shape:  (64, 64, 3) \tmin: 0.013710171568629415 \tmax:  0.9921568627450981\n",
      "shape:  (64, 64, 3) \tmin: 0.06834022671568624 \tmax:  0.8909658394607851\n",
      "shape:  (64, 64, 3) \tmin: 0.04844037224264697 \tmax:  0.9921568627450981\n",
      "shape:  (64, 64, 3) \tmin: 0.02423023897058813 \tmax:  0.9842294730392158\n",
      "shape:  (64, 64, 3) \tmin: 0.008180625765932741 \tmax:  0.9777087641697308\n",
      "shape:  (64, 64, 3) \tmin: 0.03903664981617623 \tmax:  0.9793401979932593\n",
      "shape:  (64, 64, 3) \tmin: 0.057935049019607845 \tmax:  0.9921568627450981\n",
      "shape:  (64, 64, 3) \tmin: 0.06338536879595565 \tmax:  0.9201834884344352\n",
      "shape:  (64, 64, 3) \tmin: 0.053109681372548866 \tmax:  0.5719669117647057\n",
      "shape:  (64, 64, 3) \tmin: 0.03351715686274521 \tmax:  0.8648241230085797\n",
      "shape:  (64, 64, 3) \tmin: 0.03911803002450903 \tmax:  0.8150242225796563\n",
      "shape:  (64, 64, 3) \tmin: 0.034160778569240706 \tmax:  0.7854355755974255\n",
      "shape:  (64, 64, 3) \tmin: 0.023467419194240183 \tmax:  0.7593352673100497\n",
      "shape:  (64, 64, 3) \tmin: 0.07279411764705877 \tmax:  0.7749540441176471\n",
      "shape:  (64, 64, 3) \tmin: 0.07595454197303977 \tmax:  0.7563754212622533\n",
      "shape:  (64, 64, 3) \tmin: 0.0 \tmax:  0.6835477941176471\n"
     ]
    }
   ],
   "source": [
    "# Cargamos las imágenes de entrenamiento y de test.\n",
    "images_train, labels_train = traffic.readDataset(train_path, IMG_SHAPE, False)\n",
    "images_test, labels_test = traffic.readDataset(test_path, IMG_SHAPE, False)\n",
    "\n",
    "# Convertimos las listas a array numpy de float32\n",
    "np_images_train = np.asarray(images_train, dtype = np.float32)\n",
    "np_labels_train = np.asarray(labels_train, dtype = np.int8)\n",
    "\n",
    "np_images_test = np.asarray(images_test, dtype = np.float32)\n",
    "np_labels_test = np.asarray(labels_test, dtype = np.int8)\n",
    "\n",
    "# Recuperamos los nombres de las categorias. Los diferentes tipo de señales\n",
    "# que se van a clasificar.\n",
    "titles = traffic.read_csv(labels_path, \",\")\n",
    "\n",
    "# Se imprime información de los datos cargados.\n",
    "traffic.print_size_dataset(images_train, labels_train, np_images_train, np_labels_train, \"train\")\n",
    "traffic.print_size_dataset(images_test, labels_test, np_images_test, np_labels_test, \"test\")\n",
    "print(\"Titles total: \", len(titles))\n",
    "traffic.print_signals_attributes(10, images_train, labels_train, titles)"
   ]
  },
  {
   "cell_type": "code",
   "execution_count": 4,
   "metadata": {},
   "outputs": [
    {
     "name": "stdout",
     "output_type": "stream",
     "text": [
      "Ejemplo primera imagen de manera categórica:  [1. 0. 0. 0. 0. 0. 0. 0. 0. 0. 0. 0. 0. 0. 0. 0. 0. 0. 0. 0. 0. 0. 0. 0.\n",
      " 0. 0. 0. 0. 0. 0. 0. 0. 0. 0. 0. 0. 0. 0. 0. 0. 0. 0. 0. 0. 0. 0. 0. 0.\n",
      " 0. 0. 0. 0. 0. 0. 0. 0. 0. 0. 0. 0. 0. 0.]\n"
     ]
    }
   ],
   "source": [
    "# Convertimos las labels de manera categórica\n",
    "labels_categorical_train = keras.utils.to_categorical(np_labels_train)\n",
    "labels_categorical_test = keras.utils.to_categorical(np_labels_test)\n",
    "\n",
    "print(\"Ejemplo primera imagen de manera categórica: \", labels_categorical_train[0])"
   ]
  },
  {
   "cell_type": "code",
   "execution_count": 5,
   "metadata": {},
   "outputs": [],
   "source": [
    "def get_keras_model(activation):\n",
    "    # IMPLEMENTACIÓN RED NEURONAL\n",
    "    # En Keras la envoltura para cualquier red neuronal se crea con la clase Sequential\n",
    "    model = models.Sequential()\n",
    "\n",
    "    model.add(layers.Conv2D(32, (5, 5),\n",
    "                            activation=activation, input_shape=(IMG_SHAPE[0], IMG_SHAPE[1], 3)))\n",
    "    model.add(layers.MaxPooling2D(2, 2))\n",
    "    model.add(layers.Dropout(0.2))\n",
    "\n",
    "    model.add(layers.Conv2D(64, (5, 5), activation=activation))\n",
    "    model.add(layers.MaxPooling2D(2, 2))\n",
    "    model.add(layers.Dropout(0.2))\n",
    "    \n",
    "    model.add(layers.Conv2D(128, (5, 5), activation=activation))\n",
    "    model.add(layers.MaxPooling2D(2, 2))\n",
    "    model.add(layers.Dropout(0.2))\n",
    "\n",
    "    model.add(layers.MaxPooling2D(2, 2))\n",
    "    model.add(layers.Dropout(0.2))\n",
    "\n",
    "    model.add(layers.Flatten())\n",
    "    model.add(layers.Dense(len(set(labels_train)), activation='softmax'))\n",
    "    return model"
   ]
  },
  {
   "cell_type": "code",
   "execution_count": 6,
   "metadata": {
    "scrolled": false
   },
   "outputs": [
    {
     "name": "stdout",
     "output_type": "stream",
     "text": [
      "WARNING:tensorflow:From /Users/togohi/traffic/lib/python3.6/site-packages/tensorflow/python/framework/op_def_library.py:263: colocate_with (from tensorflow.python.framework.ops) is deprecated and will be removed in a future version.\n",
      "Instructions for updating:\n",
      "Colocations handled automatically by placer.\n",
      "WARNING:tensorflow:From /Users/togohi/traffic/lib/python3.6/site-packages/keras/backend/tensorflow_backend.py:3445: calling dropout (from tensorflow.python.ops.nn_ops) with keep_prob is deprecated and will be removed in a future version.\n",
      "Instructions for updating:\n",
      "Please use `rate` instead of `keep_prob`. Rate should be set to `rate = 1 - keep_prob`.\n",
      "_________________________________________________________________\n",
      "Layer (type)                 Output Shape              Param #   \n",
      "=================================================================\n",
      "conv2d_1 (Conv2D)            (None, 60, 60, 32)        2432      \n",
      "_________________________________________________________________\n",
      "max_pooling2d_1 (MaxPooling2 (None, 30, 30, 32)        0         \n",
      "_________________________________________________________________\n",
      "dropout_1 (Dropout)          (None, 30, 30, 32)        0         \n",
      "_________________________________________________________________\n",
      "conv2d_2 (Conv2D)            (None, 26, 26, 64)        51264     \n",
      "_________________________________________________________________\n",
      "max_pooling2d_2 (MaxPooling2 (None, 13, 13, 64)        0         \n",
      "_________________________________________________________________\n",
      "dropout_2 (Dropout)          (None, 13, 13, 64)        0         \n",
      "_________________________________________________________________\n",
      "conv2d_3 (Conv2D)            (None, 9, 9, 128)         204928    \n",
      "_________________________________________________________________\n",
      "max_pooling2d_3 (MaxPooling2 (None, 4, 4, 128)         0         \n",
      "_________________________________________________________________\n",
      "dropout_3 (Dropout)          (None, 4, 4, 128)         0         \n",
      "_________________________________________________________________\n",
      "max_pooling2d_4 (MaxPooling2 (None, 2, 2, 128)         0         \n",
      "_________________________________________________________________\n",
      "dropout_4 (Dropout)          (None, 2, 2, 128)         0         \n",
      "_________________________________________________________________\n",
      "flatten_1 (Flatten)          (None, 512)               0         \n",
      "_________________________________________________________________\n",
      "dense_1 (Dense)              (None, 62)                31806     \n",
      "=================================================================\n",
      "Total params: 290,430\n",
      "Trainable params: 290,430\n",
      "Non-trainable params: 0\n",
      "_________________________________________________________________\n",
      "WARNING:tensorflow:From /Users/togohi/traffic/lib/python3.6/site-packages/tensorflow/python/ops/math_ops.py:3066: to_int32 (from tensorflow.python.ops.math_ops) is deprecated and will be removed in a future version.\n",
      "Instructions for updating:\n",
      "Use tf.cast instead.\n",
      "Epoch 1/25\n",
      "4575/4575 [==============================] - 40s 9ms/step - loss: 2.5221 - acc: 0.4199\n",
      "Epoch 2/25\n",
      "4575/4575 [==============================] - 40s 9ms/step - loss: 0.9144 - acc: 0.7827\n",
      "Epoch 3/25\n",
      "4575/4575 [==============================] - 40s 9ms/step - loss: 0.4598 - acc: 0.8850\n",
      "Epoch 4/25\n",
      "4575/4575 [==============================] - 39s 9ms/step - loss: 0.2742 - acc: 0.9303\n",
      "Epoch 5/25\n",
      "4575/4575 [==============================] - 39s 9ms/step - loss: 0.2089 - acc: 0.9480\n",
      "Epoch 6/25\n",
      "4575/4575 [==============================] - 40s 9ms/step - loss: 0.1384 - acc: 0.9642\n",
      "Epoch 7/25\n",
      "4575/4575 [==============================] - 39s 9ms/step - loss: 0.1157 - acc: 0.9718\n",
      "Epoch 8/25\n",
      "4575/4575 [==============================] - 39s 9ms/step - loss: 0.0865 - acc: 0.9744\n",
      "Epoch 9/25\n",
      "4575/4575 [==============================] - 39s 9ms/step - loss: 0.0836 - acc: 0.9770\n",
      "Epoch 10/25\n",
      "4575/4575 [==============================] - 39s 9ms/step - loss: 0.0543 - acc: 0.9845\n",
      "Epoch 11/25\n",
      "4575/4575 [==============================] - 39s 9ms/step - loss: 0.0582 - acc: 0.9834\n",
      "Epoch 12/25\n",
      "4575/4575 [==============================] - 39s 9ms/step - loss: 0.0444 - acc: 0.9864\n",
      "Epoch 13/25\n",
      "4575/4575 [==============================] - 39s 9ms/step - loss: 0.0420 - acc: 0.9860\n",
      "Epoch 14/25\n",
      "4575/4575 [==============================] - 39s 9ms/step - loss: 0.0364 - acc: 0.9882\n",
      "Epoch 15/25\n",
      "4575/4575 [==============================] - 39s 9ms/step - loss: 0.0306 - acc: 0.9919\n",
      "Epoch 16/25\n",
      "4575/4575 [==============================] - 39s 9ms/step - loss: 0.0311 - acc: 0.9915\n",
      "Epoch 17/25\n",
      "4575/4575 [==============================] - 40s 9ms/step - loss: 0.0364 - acc: 0.9906\n",
      "Epoch 18/25\n",
      "4575/4575 [==============================] - 39s 9ms/step - loss: 0.0287 - acc: 0.9919\n",
      "Epoch 19/25\n",
      "4575/4575 [==============================] - 39s 9ms/step - loss: 0.0222 - acc: 0.9919\n",
      "Epoch 20/25\n",
      "4575/4575 [==============================] - 39s 9ms/step - loss: 0.0173 - acc: 0.9937\n",
      "Epoch 21/25\n",
      "4575/4575 [==============================] - 39s 9ms/step - loss: 0.0236 - acc: 0.9941\n",
      "Epoch 22/25\n",
      "4575/4575 [==============================] - 39s 9ms/step - loss: 0.0209 - acc: 0.9954\n",
      "Epoch 23/25\n",
      "4575/4575 [==============================] - 39s 9ms/step - loss: 0.0266 - acc: 0.9930\n",
      "Epoch 24/25\n",
      "4575/4575 [==============================] - 39s 9ms/step - loss: 0.0172 - acc: 0.9945\n",
      "Epoch 25/25\n",
      "4575/4575 [==============================] - 39s 9ms/step - loss: 0.0280 - acc: 0.9921\n",
      "2520/2520 [==============================] - 8s 3ms/step\n",
      "Test loss: 0.14018301860972385\n",
      "Test accuracy: 0.9781746031746031\n"
     ]
    }
   ],
   "source": [
    "model = get_keras_model(ACTIVATION)\n",
    "\n",
    "# Muestra la arquitectura de nuestra red neuronal\n",
    "model.summary()\n",
    "\n",
    "# Configurando el modelo de aprendijaze:\n",
    "#  · loss, función para evaluar el grado de error entre salidas calculadas\n",
    "#  · optimizador, función para calcular los pesos de los parámetros a partir de los datos de entrada\n",
    "#  · metricas, para monitorizar el proceso de aprendizaje de la red.\n",
    "model.compile(loss=\"categorical_crossentropy\",\n",
    "             optimizer=OPTIMIZER,\n",
    "             metrics=['accuracy'])\n",
    "\n",
    "# Entrenamiento del modelo\n",
    "# - batch_size, indica el número de datos que se usan en cada actualización.\n",
    "# - epochs, indica el número de veces que se usan todos los datos del proceso.\n",
    "#model.fit(np_images_train, labels_categorical_train, batch_size=32, epochs=20)\n",
    "model.fit(np_images_train, labels_categorical_train,\n",
    "          batch_size = BATCH_SIZE,\n",
    "          epochs = EPOCHS,\n",
    "          callbacks=[ModelCheckpoint('model_64_64_bel.h5', save_best_only = False)])\n",
    "\n",
    "# Evaluación del modelo\n",
    "test_loss, test_acc = model.evaluate(np_images_test, labels_categorical_test)\n",
    "print('Test loss:', test_loss)\n",
    "print('Test accuracy:', test_acc)"
   ]
  },
  {
   "cell_type": "code",
   "execution_count": 7,
   "metadata": {},
   "outputs": [
    {
     "name": "stdout",
     "output_type": "stream",
     "text": [
      "2520/2520 [==============================] - 7s 3ms/step\n",
      "Test loss: 0.14018301860972385\n",
      "Test accuracy: 0.9781746031746031\n"
     ]
    }
   ],
   "source": [
    "# Evaluación del modelo\n",
    "test_loss, test_acc = model.evaluate(np_images_test, labels_categorical_test)\n",
    "print('Test loss:', test_loss)\n",
    "print('Test accuracy:', test_acc)"
   ]
  },
  {
   "cell_type": "code",
   "execution_count": 8,
   "metadata": {},
   "outputs": [],
   "source": [
    "datagen = ImageDataGenerator(featurewise_center=False,\n",
    "                             featurewise_std_normalization=False, \n",
    "                             width_shift_range=0.1,\n",
    "                             height_shift_range=0.1,\n",
    "                             zoom_range=0.2,\n",
    "                             shear_range=0.1,\n",
    "                             rotation_range=10.,)\n",
    "\n",
    "datagen.fit(np_images_test)"
   ]
  },
  {
   "cell_type": "code",
   "execution_count": 9,
   "metadata": {},
   "outputs": [
    {
     "name": "stdout",
     "output_type": "stream",
     "text": [
      "Epoch 1/25\n",
      "4575/4575 [==============================] - 1404s 307ms/step - loss: 0.3611 - acc: 0.9133\n",
      "Epoch 2/25\n",
      "4575/4575 [==============================] - 1367s 299ms/step - loss: 0.1966 - acc: 0.9657\n",
      "Epoch 3/25\n",
      "4575/4575 [==============================] - 1378s 301ms/step - loss: 0.2219 - acc: 0.9727\n",
      "Epoch 4/25\n",
      "4575/4575 [==============================] - 1385s 303ms/step - loss: 0.2566 - acc: 0.9755\n",
      "Epoch 5/25\n",
      "4575/4575 [==============================] - 1386s 303ms/step - loss: 0.2641 - acc: 0.9782\n",
      "Epoch 6/25\n",
      "4575/4575 [==============================] - 1390s 304ms/step - loss: 0.2787 - acc: 0.9786\n",
      "Epoch 7/25\n",
      "4575/4575 [==============================] - 1390s 304ms/step - loss: 0.2812 - acc: 0.9797\n",
      "Epoch 8/25\n",
      "4575/4575 [==============================] - 1391s 304ms/step - loss: 0.2837 - acc: 0.9801\n",
      "Epoch 9/25\n",
      "4575/4575 [==============================] - 1390s 304ms/step - loss: 0.2990 - acc: 0.9796\n",
      "Epoch 10/25\n",
      "4575/4575 [==============================] - 1391s 304ms/step - loss: 0.2938 - acc: 0.9800\n",
      "Epoch 11/25\n",
      "4575/4575 [==============================] - 1398s 306ms/step - loss: 0.2860 - acc: 0.9809\n",
      "Epoch 12/25\n",
      "4575/4575 [==============================] - 1399s 306ms/step - loss: 0.3071 - acc: 0.9798\n",
      "Epoch 13/25\n",
      "4575/4575 [==============================] - 1398s 306ms/step - loss: 0.2851 - acc: 0.9812\n",
      "Epoch 14/25\n",
      "4575/4575 [==============================] - 1365s 298ms/step - loss: 0.2921 - acc: 0.9808\n",
      "Epoch 15/25\n",
      "4575/4575 [==============================] - 1372s 300ms/step - loss: 0.2914 - acc: 0.9810\n",
      "Epoch 16/25\n",
      "4575/4575 [==============================] - 1379s 301ms/step - loss: 0.2946 - acc: 0.9808\n",
      "Epoch 17/25\n",
      "4575/4575 [==============================] - 1381s 302ms/step - loss: 0.2880 - acc: 0.9813\n",
      "Epoch 18/25\n",
      "4575/4575 [==============================] - 1383s 302ms/step - loss: 0.3124 - acc: 0.9798\n",
      "Epoch 19/25\n",
      "4575/4575 [==============================] - 1384s 303ms/step - loss: 0.2823 - acc: 0.9818\n",
      "Epoch 20/25\n",
      "4575/4575 [==============================] - 1393s 305ms/step - loss: 0.2672 - acc: 0.9828\n",
      "Epoch 21/25\n",
      "4575/4575 [==============================] - 1394s 305ms/step - loss: 0.2827 - acc: 0.9819\n",
      "Epoch 22/25\n",
      "4575/4575 [==============================] - 1396s 305ms/step - loss: 0.2793 - acc: 0.9820\n",
      "Epoch 23/25\n",
      "4575/4575 [==============================] - 1396s 305ms/step - loss: 0.2714 - acc: 0.9826\n",
      "Epoch 24/25\n",
      "4575/4575 [==============================] - 1393s 304ms/step - loss: 0.2734 - acc: 0.9825\n",
      "Epoch 25/25\n",
      "4575/4575 [==============================] - 1396s 305ms/step - loss: 0.2547 - acc: 0.9837\n"
     ]
    },
    {
     "data": {
      "text/plain": [
       "<keras.callbacks.History at 0x10d771390>"
      ]
     },
     "execution_count": 9,
     "metadata": {},
     "output_type": "execute_result"
    }
   ],
   "source": [
    "model_2 = get_keras_model(ACTIVATION)\n",
    "\n",
    "model_2.compile(loss=\"categorical_crossentropy\",\n",
    "             optimizer=OPTIMIZER,\n",
    "             metrics=['accuracy'])\n",
    "\n",
    "model_2.fit_generator(datagen.flow(np_images_train, labels_categorical_train, batch_size=32),\n",
    "                      steps_per_epoch = np_images_train.shape[0],\n",
    "                      epochs = EPOCHS,\n",
    "                      callbacks=[ModelCheckpoint('model_data_aug_64_64_bel.h5',save_best_only = False)])"
   ]
  },
  {
   "cell_type": "code",
   "execution_count": 10,
   "metadata": {},
   "outputs": [
    {
     "name": "stdout",
     "output_type": "stream",
     "text": [
      "2520/2520 [==============================] - 8s 3ms/step\n",
      "Test loss: 0.2915069095672123\n",
      "Test accuracy: 0.9817460317460317\n"
     ]
    }
   ],
   "source": [
    "# Evaluación del modelo\n",
    "test_loss, test_acc = model_2.evaluate(np_images_test, labels_categorical_test)\n",
    "print('Test loss:', test_loss)\n",
    "print('Test accuracy:', test_acc)"
   ]
  },
  {
   "cell_type": "code",
   "execution_count": null,
   "metadata": {},
   "outputs": [],
   "source": []
  }
 ],
 "metadata": {
  "kernelspec": {
   "display_name": "Python 3",
   "language": "python",
   "name": "python3"
  },
  "language_info": {
   "codemirror_mode": {
    "name": "ipython",
    "version": 3
   },
   "file_extension": ".py",
   "mimetype": "text/x-python",
   "name": "python",
   "nbconvert_exporter": "python",
   "pygments_lexer": "ipython3",
   "version": "3.6.5"
  }
 },
 "nbformat": 4,
 "nbformat_minor": 2
}
