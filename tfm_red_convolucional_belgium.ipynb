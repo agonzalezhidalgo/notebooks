{
 "cells": [
  {
   "cell_type": "markdown",
   "metadata": {},
   "source": [
    "# Reconocimiento de señales de tráfico\n",
    "### Máster Universitario en Ingeniería computacional y matemática - Área de inteligencia artificial\n",
    "### Antonio González Hidalgo (agonzalezhidalgo@uoc.edu)\n",
    "\n",
    "Usando una red neuronal convolucional.\n",
    "\n",
    "Para la correcta funcionamiento de este notebook, el notebook debe de estar estructurado de la siguiente manera:\n",
    "\n",
    "- ./dataset\n",
    "- ./dataset/info.csv          Fichero que contiene los nombres de las señales correspondientes.\n",
    "- ./dataset/train/Images      Conjunto de imágenes que formarán el entrenamiento de la red neuronal.\n",
    "- ./dataset/test/info.csv.    Fichero que contiene las categórias de las imágenes de test.\n",
    "- ./dataset/test/Images       Conjunto de imágenes que constituirán el test."
   ]
  },
  {
   "cell_type": "markdown",
   "metadata": {},
   "source": [
    "Este notebook se ha ejecutado usando el dataset de _BelgiumTS_\n",
    "https://btsd.ethz.ch/shareddata/"
   ]
  },
  {
   "cell_type": "code",
   "execution_count": 1,
   "metadata": {},
   "outputs": [
    {
     "name": "stdout",
     "output_type": "stream",
     "text": [
      "importing Jupyter notebook from tfm_generic_functions.ipynb\n"
     ]
    },
    {
     "name": "stderr",
     "output_type": "stream",
     "text": [
      "Using TensorFlow backend.\n"
     ]
    }
   ],
   "source": [
    "import import_ipynb\n",
    "import tfm_generic_functions as traffic\n",
    "\n",
    "# https://docs.python.org/3/library/os.html\n",
    "import os\n",
    "\n",
    "# https://docs.scipy.org/doc/numpy/reference/\n",
    "import numpy as np\n",
    "\n",
    "# https://keras.io/models/model/\n",
    "import keras\n",
    "\n",
    "from keras import models\n",
    "\n",
    "# Core Layers: https://keras.io/layers/core/\n",
    "# Convolution Layers: https://keras.io/layers/convolutional/\n",
    "from keras import layers\n",
    "\n",
    "# https://keras.io/preprocessing/image/\n",
    "from keras.preprocessing.image import ImageDataGenerator\n",
    "\n",
    "# https://keras.io/callbacks/\n",
    "from keras.callbacks import ModelCheckpoint"
   ]
  },
  {
   "cell_type": "code",
   "execution_count": 2,
   "metadata": {},
   "outputs": [
    {
     "name": "stdout",
     "output_type": "stream",
     "text": [
      "Tamaño de las imágenes de entrada:  (64, 64)\n",
      "Vectorizando la entrada, sería de un tamaño:  4096\n"
     ]
    }
   ],
   "source": [
    "# Obtenemos el directorio actual como trabajo.\n",
    "ROOT_PATH = os.getcwd()\n",
    "\n",
    "# Establecemos la dimensión de las imágenes.\n",
    "IMG_SHAPE = (64, 64)\n",
    "print(\"Tamaño de las imágenes de entrada: \", IMG_SHAPE)\n",
    "IMG_SHAPE_LEN = IMG_SHAPE[0] * IMG_SHAPE[1]\n",
    "print(\"Vectorizando la entrada, sería de un tamaño: \", IMG_SHAPE_LEN)\n",
    "\n",
    "# Obtenemos los paths de trabajo\n",
    "labels_path = os.path.join(ROOT_PATH, \"dataset_bel/labels.csv\")\n",
    "train_path = os.path.join(ROOT_PATH, \"dataset_bel/train\")\n",
    "test_path = os.path.join(ROOT_PATH, \"dataset_bel/test\")"
   ]
  },
  {
   "cell_type": "code",
   "execution_count": 3,
   "metadata": {},
   "outputs": [
    {
     "name": "stdout",
     "output_type": "stream",
     "text": [
      "Total images (train):  4575\n",
      "Total labels (train):  62\n",
      "Images shape:  (4575, 64, 64, 3)\n",
      "Labels shape:  (4575,)\n",
      "Total images (test):  2520\n",
      "Total labels (test):  53\n",
      "Images shape:  (2520, 64, 64, 3)\n",
      "Labels shape:  (2520,)\n",
      "Titles total:  62\n",
      "Signal:  A31\n",
      "shape:  (64, 64, 3) \tmin: 0.04844037224264742 \tmax:  0.9921568627450981\n",
      "shape:  (64, 64, 3) \tmin: 0.012683823529412207 \tmax:  1.0\n",
      "shape:  (64, 64, 3) \tmin: 0.03416077856924062 \tmax:  0.7854355755974258\n",
      "shape:  (64, 64, 3) \tmin: 0.0391180300245094 \tmax:  0.8150242225796563\n",
      "shape:  (64, 64, 3) \tmin: 0.0064950980392159095 \tmax:  0.996078431372549\n",
      "shape:  (64, 64, 3) \tmin: 0.06834022671568622 \tmax:  0.8909658394607853\n",
      "shape:  (64, 64, 3) \tmin: 0.024230238970588236 \tmax:  0.9842294730392157\n",
      "shape:  (64, 64, 3) \tmin: 0.04133013556985346 \tmax:  1.0\n",
      "shape:  (64, 64, 3) \tmin: 0.023467419194240183 \tmax:  0.7593352673100491\n",
      "shape:  (64, 64, 3) \tmin: 0.01371017156862504 \tmax:  0.9921568627450981\n",
      "shape:  (64, 64, 3) \tmin: 0.07595454197303977 \tmax:  0.7563754212622538\n",
      "shape:  (64, 64, 3) \tmin: 0.07279411764705883 \tmax:  0.7749540441176471\n",
      "shape:  (64, 64, 3) \tmin: 0.022579656862743984 \tmax:  0.996078431372549\n",
      "shape:  (64, 64, 3) \tmin: 0.0 \tmax:  0.6835477941176472\n",
      "shape:  (64, 64, 3) \tmin: 0.03529411764705882 \tmax:  0.996078431372549\n",
      "shape:  (64, 64, 3) \tmin: 0.05310968137254885 \tmax:  0.571966911764706\n",
      "shape:  (64, 64, 3) \tmin: 0.06338536879595565 \tmax:  0.9201834884344352\n",
      "shape:  (64, 64, 3) \tmin: 0.033517156862744875 \tmax:  0.8648241230085848\n",
      "shape:  (64, 64, 3) \tmin: 0.03903664981617604 \tmax:  0.9793401979932586\n",
      "shape:  (64, 64, 3) \tmin: 0.0081806257659327 \tmax:  0.9777087641697311\n",
      "shape:  (64, 64, 3) \tmin: 0.05793504901960768 \tmax:  0.9921568627450981\n"
     ]
    }
   ],
   "source": [
    "# Cargamos las imágenes de entrenamiento y de test.\n",
    "images_train, labels_train = traffic.readDataset(train_path, IMG_SHAPE, False)\n",
    "images_test, labels_test = traffic.readDataset(test_path, IMG_SHAPE, False)\n",
    "\n",
    "# Convertimos las listas a array numpy de float32\n",
    "np_images_train = np.asarray(images_train, dtype = np.float32)\n",
    "np_labels_train = np.asarray(labels_train, dtype = np.int8)\n",
    "\n",
    "np_images_test = np.asarray(images_test, dtype = np.float32)\n",
    "np_labels_test = np.asarray(labels_test, dtype = np.int8)\n",
    "\n",
    "# Recuperamos los nombres de las categorias. Los diferentes tipo de señales\n",
    "# que se van a clasificar.\n",
    "titles = traffic.read_csv(labels_path, \",\")\n",
    "\n",
    "# Se imprime información de los datos cargados.\n",
    "traffic.print_size_dataset(images_train, labels_train, np_images_train, np_labels_train, \"train\")\n",
    "traffic.print_size_dataset(images_test, labels_test, np_images_test, np_labels_test, \"test\")\n",
    "print(\"Titles total: \", len(titles))\n",
    "traffic.print_signals_attributes(10, images_train, labels_train, titles)"
   ]
  },
  {
   "cell_type": "code",
   "execution_count": 4,
   "metadata": {},
   "outputs": [
    {
     "name": "stdout",
     "output_type": "stream",
     "text": [
      "Ejemplo primera imagen de manera categórica:  [0. 0. 0. 0. 0. 0. 0. 0. 0. 0. 0. 0. 0. 0. 0. 0. 0. 0. 0. 0. 0. 0. 0. 0.\n",
      " 0. 0. 0. 0. 0. 0. 0. 1. 0. 0. 0. 0. 0. 0. 0. 0. 0. 0. 0. 0. 0. 0. 0. 0.\n",
      " 0. 0. 0. 0. 0. 0. 0. 0. 0. 0. 0. 0. 0. 0.]\n"
     ]
    }
   ],
   "source": [
    "# Convertimos las labels de manera categórica\n",
    "labels_categorical_train = keras.utils.to_categorical(np_labels_train)\n",
    "labels_categorical_test = keras.utils.to_categorical(np_labels_test)\n",
    "\n",
    "print(\"Ejemplo primera imagen de manera categórica: \", labels_categorical_train[0])"
   ]
  },
  {
   "cell_type": "code",
   "execution_count": 5,
   "metadata": {},
   "outputs": [],
   "source": [
    "def get_keras_model():\n",
    "    # IMPLEMENTACIÓN RED NEURONAL\n",
    "    # En Keras la envoltura para cualquier red neuronal se crea con la clase Sequential\n",
    "    model = models.Sequential()\n",
    "\n",
    "    model.add(layers.Conv2D(32, (5, 5),\n",
    "                            activation='relu', input_shape=(IMG_SHAPE[0], IMG_SHAPE[1], 3)))\n",
    "    model.add(layers.MaxPooling2D(2, 2))\n",
    "    model.add(layers.Dropout(0.2))\n",
    "\n",
    "    model.add(layers.Conv2D(64, (5, 5), activation='relu'))\n",
    "    model.add(layers.MaxPooling2D(2, 2))\n",
    "    model.add(layers.Dropout(0.2))\n",
    "    \n",
    "    model.add(layers.Conv2D(128, (5, 5), activation='relu'))\n",
    "    model.add(layers.MaxPooling2D(2, 2))\n",
    "    model.add(layers.Dropout(0.2))\n",
    "\n",
    "    model.add(layers.MaxPooling2D(2, 2))\n",
    "    model.add(layers.Dropout(0.2))\n",
    "\n",
    "    model.add(layers.Flatten())\n",
    "    model.add(layers.Dense(len(set(labels_train)), activation='softmax'))\n",
    "    return model"
   ]
  },
  {
   "cell_type": "code",
   "execution_count": 6,
   "metadata": {
    "scrolled": false
   },
   "outputs": [
    {
     "name": "stdout",
     "output_type": "stream",
     "text": [
      "WARNING:tensorflow:From /Users/togohi/traffic/lib/python3.6/site-packages/tensorflow/python/framework/op_def_library.py:263: colocate_with (from tensorflow.python.framework.ops) is deprecated and will be removed in a future version.\n",
      "Instructions for updating:\n",
      "Colocations handled automatically by placer.\n",
      "WARNING:tensorflow:From /Users/togohi/traffic/lib/python3.6/site-packages/keras/backend/tensorflow_backend.py:3445: calling dropout (from tensorflow.python.ops.nn_ops) with keep_prob is deprecated and will be removed in a future version.\n",
      "Instructions for updating:\n",
      "Please use `rate` instead of `keep_prob`. Rate should be set to `rate = 1 - keep_prob`.\n",
      "_________________________________________________________________\n",
      "Layer (type)                 Output Shape              Param #   \n",
      "=================================================================\n",
      "conv2d_1 (Conv2D)            (None, 60, 60, 32)        2432      \n",
      "_________________________________________________________________\n",
      "max_pooling2d_1 (MaxPooling2 (None, 30, 30, 32)        0         \n",
      "_________________________________________________________________\n",
      "dropout_1 (Dropout)          (None, 30, 30, 32)        0         \n",
      "_________________________________________________________________\n",
      "conv2d_2 (Conv2D)            (None, 26, 26, 64)        51264     \n",
      "_________________________________________________________________\n",
      "max_pooling2d_2 (MaxPooling2 (None, 13, 13, 64)        0         \n",
      "_________________________________________________________________\n",
      "dropout_2 (Dropout)          (None, 13, 13, 64)        0         \n",
      "_________________________________________________________________\n",
      "conv2d_3 (Conv2D)            (None, 9, 9, 128)         204928    \n",
      "_________________________________________________________________\n",
      "max_pooling2d_3 (MaxPooling2 (None, 4, 4, 128)         0         \n",
      "_________________________________________________________________\n",
      "dropout_3 (Dropout)          (None, 4, 4, 128)         0         \n",
      "_________________________________________________________________\n",
      "max_pooling2d_4 (MaxPooling2 (None, 2, 2, 128)         0         \n",
      "_________________________________________________________________\n",
      "dropout_4 (Dropout)          (None, 2, 2, 128)         0         \n",
      "_________________________________________________________________\n",
      "flatten_1 (Flatten)          (None, 512)               0         \n",
      "_________________________________________________________________\n",
      "dense_1 (Dense)              (None, 62)                31806     \n",
      "=================================================================\n",
      "Total params: 290,430\n",
      "Trainable params: 290,430\n",
      "Non-trainable params: 0\n",
      "_________________________________________________________________\n",
      "WARNING:tensorflow:From /Users/togohi/traffic/lib/python3.6/site-packages/tensorflow/python/ops/math_ops.py:3066: to_int32 (from tensorflow.python.ops.math_ops) is deprecated and will be removed in a future version.\n",
      "Instructions for updating:\n",
      "Use tf.cast instead.\n",
      "Epoch 1/30\n",
      "4575/4575 [==============================] - 24s 5ms/step - loss: 3.6118 - acc: 0.1462\n",
      "Epoch 2/30\n",
      "4575/4575 [==============================] - 24s 5ms/step - loss: 2.7746 - acc: 0.3639\n",
      "Epoch 3/30\n",
      "4575/4575 [==============================] - 24s 5ms/step - loss: 2.0125 - acc: 0.5320\n",
      "Epoch 4/30\n",
      "4575/4575 [==============================] - 23s 5ms/step - loss: 1.4814 - acc: 0.6396\n",
      "Epoch 5/30\n",
      "4575/4575 [==============================] - 23s 5ms/step - loss: 1.1372 - acc: 0.7250\n",
      "Epoch 6/30\n",
      "4575/4575 [==============================] - 22s 5ms/step - loss: 0.9242 - acc: 0.7781\n",
      "Epoch 7/30\n",
      "4575/4575 [==============================] - 22s 5ms/step - loss: 0.7548 - acc: 0.8136\n",
      "Epoch 8/30\n",
      "4575/4575 [==============================] - 22s 5ms/step - loss: 0.6307 - acc: 0.8459\n",
      "Epoch 9/30\n",
      "4575/4575 [==============================] - 22s 5ms/step - loss: 0.5452 - acc: 0.8634\n",
      "Epoch 10/30\n",
      "4575/4575 [==============================] - 23s 5ms/step - loss: 0.4775 - acc: 0.8745\n",
      "Epoch 11/30\n",
      "4575/4575 [==============================] - 23s 5ms/step - loss: 0.4057 - acc: 0.8953\n",
      "Epoch 12/30\n",
      "4575/4575 [==============================] - 23s 5ms/step - loss: 0.3529 - acc: 0.9060\n",
      "Epoch 13/30\n",
      "4575/4575 [==============================] - 23s 5ms/step - loss: 0.3175 - acc: 0.9189\n",
      "Epoch 14/30\n",
      "4575/4575 [==============================] - 23s 5ms/step - loss: 0.2896 - acc: 0.9292\n",
      "Epoch 15/30\n",
      "4575/4575 [==============================] - 23s 5ms/step - loss: 0.2616 - acc: 0.9318\n",
      "Epoch 16/30\n",
      "4575/4575 [==============================] - 22s 5ms/step - loss: 0.2428 - acc: 0.9353\n",
      "Epoch 17/30\n",
      "4575/4575 [==============================] - 23s 5ms/step - loss: 0.2210 - acc: 0.9412\n",
      "Epoch 18/30\n",
      "4575/4575 [==============================] - 23s 5ms/step - loss: 0.2198 - acc: 0.9430\n",
      "Epoch 19/30\n",
      "4575/4575 [==============================] - 23s 5ms/step - loss: 0.1931 - acc: 0.9471\n",
      "Epoch 20/30\n",
      "4575/4575 [==============================] - 23s 5ms/step - loss: 0.1883 - acc: 0.9515\n",
      "Epoch 21/30\n",
      "4575/4575 [==============================] - 23s 5ms/step - loss: 0.1768 - acc: 0.9556\n",
      "Epoch 22/30\n",
      "4575/4575 [==============================] - 23s 5ms/step - loss: 0.1717 - acc: 0.9530\n",
      "Epoch 23/30\n",
      "4575/4575 [==============================] - 23s 5ms/step - loss: 0.1672 - acc: 0.9569\n",
      "Epoch 24/30\n",
      "4575/4575 [==============================] - 23s 5ms/step - loss: 0.1365 - acc: 0.9633\n",
      "Epoch 25/30\n",
      "4575/4575 [==============================] - 23s 5ms/step - loss: 0.1228 - acc: 0.9694\n",
      "Epoch 26/30\n",
      "4575/4575 [==============================] - 23s 5ms/step - loss: 0.1348 - acc: 0.9652\n",
      "Epoch 27/30\n",
      "4575/4575 [==============================] - 23s 5ms/step - loss: 0.1169 - acc: 0.9694\n",
      "Epoch 28/30\n",
      "4575/4575 [==============================] - 23s 5ms/step - loss: 0.1226 - acc: 0.9685\n",
      "Epoch 29/30\n",
      "4575/4575 [==============================] - 23s 5ms/step - loss: 0.1132 - acc: 0.9694\n",
      "Epoch 30/30\n",
      "4575/4575 [==============================] - 22s 5ms/step - loss: 0.1064 - acc: 0.9718\n",
      "2520/2520 [==============================] - 3s 1ms/step\n",
      "Test loss: 0.174172989903768\n",
      "Test accuracy: 0.9662698412698413\n"
     ]
    }
   ],
   "source": [
    "model = get_keras_model()\n",
    "\n",
    "# Muestra la arquitectura de nuestra red neuronal\n",
    "model.summary()\n",
    "\n",
    "# Configurando el modelo de aprendijaze:\n",
    "#  · loss, función para evaluar el grado de error entre salidas calculadas\n",
    "#  · optimizador, función para calcular los pesos de los parámetros a partir de los datos de entrada\n",
    "#  · metricas, para monitorizar el proceso de aprendizaje de la red.\n",
    "model.compile(loss=\"categorical_crossentropy\",\n",
    "             optimizer=\"sgd\",\n",
    "             metrics=['accuracy'])\n",
    "\n",
    "# Entrenamiento del modelo\n",
    "# - batch_size, indica el número de datos que se usan en cada actualización.\n",
    "# - epochs, indica el número de veces que se usan todos los datos del proceso.\n",
    "#model.fit(np_images_train, labels_categorical_train, batch_size=32, epochs=20)\n",
    "model.fit(np_images_train, labels_categorical_train,\n",
    "          batch_size = 32,\n",
    "          epochs = 30,\n",
    "          callbacks=[ModelCheckpoint('model_64_64_bel.h5', save_best_only = False)])\n",
    "\n",
    "# Evaluación del modelo\n",
    "test_loss, test_acc = model.evaluate(np_images_test, labels_categorical_test)\n",
    "print('Test loss:', test_loss)\n",
    "print('Test accuracy:', test_acc)"
   ]
  },
  {
   "cell_type": "code",
   "execution_count": 7,
   "metadata": {},
   "outputs": [
    {
     "name": "stdout",
     "output_type": "stream",
     "text": [
      "2520/2520 [==============================] - 3s 1ms/step\n",
      "Test loss: 0.174172989903768\n",
      "Test accuracy: 0.9662698412698413\n"
     ]
    }
   ],
   "source": [
    "# Evaluación del modelo\n",
    "test_loss, test_acc = model.evaluate(np_images_test, labels_categorical_test)\n",
    "print('Test loss:', test_loss)\n",
    "print('Test accuracy:', test_acc)"
   ]
  },
  {
   "cell_type": "code",
   "execution_count": 8,
   "metadata": {},
   "outputs": [],
   "source": [
    "datagen = ImageDataGenerator(featurewise_center=False,\n",
    "                             featurewise_std_normalization=False, \n",
    "                             width_shift_range=0.1,\n",
    "                             height_shift_range=0.1,\n",
    "                             zoom_range=0.2,\n",
    "                             shear_range=0.1,\n",
    "                             rotation_range=10.,)\n",
    "\n",
    "datagen.fit(np_images_test)"
   ]
  },
  {
   "cell_type": "code",
   "execution_count": 9,
   "metadata": {},
   "outputs": [
    {
     "name": "stdout",
     "output_type": "stream",
     "text": [
      "Epoch 1/30\n",
      "4575/4575 [==============================] - 755s 165ms/step - loss: 1.0304 - acc: 0.7274\n",
      "Epoch 2/30\n",
      "4575/4575 [==============================] - 752s 164ms/step - loss: 0.2244 - acc: 0.9343\n",
      "Epoch 3/30\n",
      "4575/4575 [==============================] - 749s 164ms/step - loss: 0.1233 - acc: 0.9637\n",
      "Epoch 4/30\n",
      "4575/4575 [==============================] - 752s 164ms/step - loss: 0.0841 - acc: 0.9747\n",
      "Epoch 5/30\n",
      "4575/4575 [==============================] - 753s 165ms/step - loss: 0.0624 - acc: 0.9813\n",
      "Epoch 6/30\n",
      "4575/4575 [==============================] - 747s 163ms/step - loss: 0.0494 - acc: 0.9852\n",
      "Epoch 7/30\n",
      "4575/4575 [==============================] - 747s 163ms/step - loss: 0.0426 - acc: 0.9869\n",
      "Epoch 8/30\n",
      "4575/4575 [==============================] - 748s 163ms/step - loss: 0.0348 - acc: 0.9895\n",
      "Epoch 9/30\n",
      "4575/4575 [==============================] - 751s 164ms/step - loss: 0.0311 - acc: 0.9903\n",
      "Epoch 10/30\n",
      "4575/4575 [==============================] - 779s 170ms/step - loss: 0.0283 - acc: 0.9913\n",
      "Epoch 11/30\n",
      "4575/4575 [==============================] - 784s 171ms/step - loss: 0.0249 - acc: 0.9921\n",
      "Epoch 12/30\n",
      "4575/4575 [==============================] - 786s 172ms/step - loss: 0.0216 - acc: 0.9932\n",
      "Epoch 13/30\n",
      "4575/4575 [==============================] - 786s 172ms/step - loss: 0.0191 - acc: 0.9941\n",
      "Epoch 14/30\n",
      "4575/4575 [==============================] - 795s 174ms/step - loss: 0.0192 - acc: 0.9939\n",
      "Epoch 15/30\n",
      "4575/4575 [==============================] - 798s 174ms/step - loss: 0.0184 - acc: 0.9942\n",
      "Epoch 16/30\n",
      "4575/4575 [==============================] - 802s 175ms/step - loss: 0.0174 - acc: 0.9943\n",
      "Epoch 17/30\n",
      "4575/4575 [==============================] - 803s 175ms/step - loss: 0.0152 - acc: 0.9954\n",
      "Epoch 18/30\n",
      "4575/4575 [==============================] - 804s 176ms/step - loss: 0.0145 - acc: 0.9955\n",
      "Epoch 19/30\n",
      "4575/4575 [==============================] - 803s 176ms/step - loss: 0.0133 - acc: 0.9958\n",
      "Epoch 20/30\n",
      "4575/4575 [==============================] - 806s 176ms/step - loss: 0.0132 - acc: 0.9958\n",
      "Epoch 21/30\n",
      "4575/4575 [==============================] - 807s 176ms/step - loss: 0.0111 - acc: 0.9966\n",
      "Epoch 22/30\n",
      "4575/4575 [==============================] - 807s 176ms/step - loss: 0.0107 - acc: 0.9967\n",
      "Epoch 23/30\n",
      "4575/4575 [==============================] - 801s 175ms/step - loss: 0.0111 - acc: 0.9967\n",
      "Epoch 24/30\n",
      "4575/4575 [==============================] - 788s 172ms/step - loss: 0.0104 - acc: 0.9967\n",
      "Epoch 25/30\n",
      "4575/4575 [==============================] - 787s 172ms/step - loss: 0.0092 - acc: 0.9971\n",
      "Epoch 26/30\n",
      "4575/4575 [==============================] - 785s 172ms/step - loss: 0.0100 - acc: 0.9968\n",
      "Epoch 27/30\n",
      "4575/4575 [==============================] - 807s 176ms/step - loss: 0.0089 - acc: 0.9972\n",
      "Epoch 28/30\n",
      "4575/4575 [==============================] - 801s 175ms/step - loss: 0.0090 - acc: 0.9970\n",
      "Epoch 29/30\n",
      "4575/4575 [==============================] - 803s 175ms/step - loss: 0.0083 - acc: 0.9976\n",
      "Epoch 30/30\n",
      "4575/4575 [==============================] - 802s 175ms/step - loss: 0.0077 - acc: 0.9976\n"
     ]
    },
    {
     "data": {
      "text/plain": [
       "<keras.callbacks.History at 0x13631d0b8>"
      ]
     },
     "execution_count": 9,
     "metadata": {},
     "output_type": "execute_result"
    }
   ],
   "source": [
    "model_2 = get_keras_model()\n",
    "\n",
    "model_2.compile(loss=\"categorical_crossentropy\",\n",
    "             optimizer=\"sgd\",\n",
    "             metrics=['accuracy'])\n",
    "\n",
    "model_2.fit_generator(datagen.flow(np_images_train, labels_categorical_train, batch_size=32),\n",
    "                      steps_per_epoch = np_images_train.shape[0],\n",
    "                      epochs = 30,\n",
    "                      callbacks=[ModelCheckpoint('model_data_aug_64_64_bel.h5',save_best_only = False)])"
   ]
  },
  {
   "cell_type": "code",
   "execution_count": 10,
   "metadata": {},
   "outputs": [
    {
     "name": "stdout",
     "output_type": "stream",
     "text": [
      "2520/2520 [==============================] - 4s 1ms/step\n",
      "Test loss: 0.08093734560057161\n",
      "Test accuracy: 0.9841269841269841\n",
      "Test accuracy: 0.9841269841269841\n"
     ]
    }
   ],
   "source": [
    "# Evaluación del modelo\n",
    "test_loss, test_acc = model_2.evaluate(np_images_test, labels_categorical_test)\n",
    "print('Test loss:', test_loss)\n",
    "print('Test accuracy:', test_acc)\n",
    "\n",
    "y_pred = model_2.predict_classes(np_images_test)\n",
    "acc = np.sum(y_pred == np_labels_test) / np.size(np_labels_test)\n",
    "print(\"Test accuracy: {}\".format(acc))"
   ]
  },
  {
   "cell_type": "code",
   "execution_count": null,
   "metadata": {},
   "outputs": [],
   "source": []
  }
 ],
 "metadata": {
  "kernelspec": {
   "display_name": "Python 3",
   "language": "python",
   "name": "python3"
  },
  "language_info": {
   "codemirror_mode": {
    "name": "ipython",
    "version": 3
   },
   "file_extension": ".py",
   "mimetype": "text/x-python",
   "name": "python",
   "nbconvert_exporter": "python",
   "pygments_lexer": "ipython3",
   "version": "3.6.5"
  }
 },
 "nbformat": 4,
 "nbformat_minor": 2
}
