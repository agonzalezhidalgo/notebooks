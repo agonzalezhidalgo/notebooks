{
 "cells": [
  {
   "cell_type": "code",
   "execution_count": 1,
   "metadata": {},
   "outputs": [
    {
     "name": "stdout",
     "output_type": "stream",
     "text": [
      "importing Jupyter notebook from tfm_generic_functions.ipynb\n"
     ]
    },
    {
     "name": "stderr",
     "output_type": "stream",
     "text": [
      "Using TensorFlow backend.\n"
     ]
    }
   ],
   "source": [
    "import import_ipynb\n",
    "import tfm_generic_functions as traffic\n",
    "\n",
    "# https://docs.python.org/3/library/os.html\n",
    "import os\n",
    "\n",
    "# http://scikit-image.org/docs/stable/api/api.html\n",
    "import skimage\n",
    "\n",
    "# https://docs.scipy.org/doc/numpy/reference/\n",
    "import numpy as np\n",
    "\n",
    "import keras\n",
    "\n",
    "from keras import models\n",
    "\n",
    "# Core Layers: https://keras.io/layers/core/\n",
    "# Convolution Layers: https://keras.io/layers/convolutional/\n",
    "from keras import layers\n",
    "\n",
    "# https://matplotlib.org/api/index.html\n",
    "import matplotlib\n",
    "\n",
    "# https://matplotlib.org/api/_as_gen/matplotlib.pyplot.html#module-matplotlib.pyplot\n",
    "import matplotlib.pyplot as plt\n",
    "\n",
    "import statistics \n",
    "from statistics import mode "
   ]
  },
  {
   "cell_type": "code",
   "execution_count": 2,
   "metadata": {},
   "outputs": [],
   "source": [
    "IMG_SHAPE = (64, 64)\n",
    "ROOT_PATH = os.getcwd()\n",
    "\n",
    "h5_det = \"model_data_aug_64_64_gpu_detector.h5\"\n",
    "h5_cla = \"model_data_aug_64_64_bel_gpu.h5\"\n",
    "\n",
    "activation_det = \"elu\"\n",
    "activation_cla = \"selu\"\n",
    "\n",
    "opt_det = \"adam\"\n",
    "opt_cla = \"rmsprop\"\n",
    "\n",
    "labels_path = os.path.join(ROOT_PATH, \"dataset_bel/labels.csv\")\n",
    "titles = traffic.read_csv(labels_path, \",\")\n",
    "\n",
    "# Images to test\n",
    "images_test_path = [os.path.join(ROOT_PATH, \"images_test/Prohibido_001.jpg\"),\n",
    "                    os.path.join(ROOT_PATH, \"images_test/Rotonda_001.jpg\"),\n",
    "                    os.path.join(ROOT_PATH, \"images_test/Stop_001.jpg\")]"
   ]
  },
  {
   "cell_type": "code",
   "execution_count": 3,
   "metadata": {},
   "outputs": [],
   "source": [
    "def get_keras_model(classes, activation):\n",
    "    # IMPLEMENTACIÓN RED NEURONAL\n",
    "    # En Keras la envoltura para cualquier red neuronal se crea con la clase Sequential\n",
    "    model = models.Sequential()\n",
    "\n",
    "    model.add(layers.Conv2D(32, (5, 5),\n",
    "                            activation=activation, input_shape=(IMG_SHAPE[0], IMG_SHAPE[1], 3)))\n",
    "    model.add(layers.MaxPooling2D(2, 2))\n",
    "    model.add(layers.Dropout(0.2))\n",
    "\n",
    "    model.add(layers.Conv2D(64, (5, 5), activation=activation))\n",
    "    model.add(layers.MaxPooling2D(2, 2))\n",
    "    model.add(layers.Dropout(0.2))\n",
    "    \n",
    "    model.add(layers.Conv2D(128, (5, 5), activation=activation))\n",
    "    model.add(layers.MaxPooling2D(2, 2))\n",
    "    model.add(layers.Dropout(0.2))\n",
    "    \n",
    "    model.add(layers.MaxPooling2D(2, 2))\n",
    "    model.add(layers.Dropout(0.2))\n",
    "\n",
    "    model.add(layers.Flatten())\n",
    "    model.add(layers.Dense(classes, activation='softmax'))\n",
    "    return model"
   ]
  },
  {
   "cell_type": "code",
   "execution_count": 4,
   "metadata": {},
   "outputs": [],
   "source": [
    "def load_trained_model_detector(weights_path):\n",
    "    model = get_keras_model(2, activation_det)\n",
    "    model.load_weights(weights_path)\n",
    "    return model\n",
    "\n",
    "def load_trained_model_classificator(weights_path, classes):\n",
    "    model = get_keras_model(classes, activation_cla)\n",
    "    model.load_weights(weights_path)\n",
    "    return model"
   ]
  },
  {
   "cell_type": "code",
   "execution_count": 5,
   "metadata": {},
   "outputs": [
    {
     "name": "stdout",
     "output_type": "stream",
     "text": [
      "WARNING:tensorflow:From /Users/togohi/traffic/lib/python3.6/site-packages/tensorflow/python/framework/op_def_library.py:263: colocate_with (from tensorflow.python.framework.ops) is deprecated and will be removed in a future version.\n",
      "Instructions for updating:\n",
      "Colocations handled automatically by placer.\n",
      "WARNING:tensorflow:From /Users/togohi/traffic/lib/python3.6/site-packages/keras/backend/tensorflow_backend.py:3445: calling dropout (from tensorflow.python.ops.nn_ops) with keep_prob is deprecated and will be removed in a future version.\n",
      "Instructions for updating:\n",
      "Please use `rate` instead of `keep_prob`. Rate should be set to `rate = 1 - keep_prob`.\n"
     ]
    }
   ],
   "source": [
    "model_detector = load_trained_model_detector(os.path.join(ROOT_PATH, h5_det))\n",
    "model_detector.compile(loss=\"categorical_crossentropy\", optimizer=opt_det, metrics=['accuracy'])\n",
    "\n",
    "model_classificator = load_trained_model_classificator(os.path.join(ROOT_PATH, h5_cla), len(titles))\n",
    "model_classificator.compile(loss=\"categorical_crossentropy\", optimizer=opt_cla, metrics=['accuracy'])"
   ]
  },
  {
   "cell_type": "code",
   "execution_count": 6,
   "metadata": {},
   "outputs": [],
   "source": [
    "def get_tiles(image, tile_shape, offset):\n",
    "    tiles = []\n",
    "    xx = tile_shape[0]\n",
    "    yy = tile_shape[1]\n",
    "    for x in range(0, image.shape[0]- xx, offset):\n",
    "        for y in range(0, image.shape[1] - yy, offset):\n",
    "            tile = image[x:x + xx, y:y + yy]\n",
    "            tiles.append(tile)\n",
    "    return tiles"
   ]
  },
  {
   "cell_type": "code",
   "execution_count": 7,
   "metadata": {},
   "outputs": [],
   "source": [
    "def get_normalized_image(image_path):\n",
    "    image_test = skimage.data.imread(image_path)\n",
    "    height = image_test.shape[0]\n",
    "    width = image_test.shape[1]\n",
    "    return skimage.transform.resize(image_test, (height, width), mode='constant')"
   ]
  },
  {
   "cell_type": "code",
   "execution_count": 8,
   "metadata": {
    "scrolled": true
   },
   "outputs": [
    {
     "name": "stdout",
     "output_type": "stream",
     "text": [
      "Tiles: 60976 - valid tiles: 7588 Moda: 22 Sign ['22', 'C1']\n",
      "Tiles: 60976 - valid tiles: 5750 Moda: 35 Sign ['35', 'D1b']\n",
      "Tiles: 61182 - valid tiles: 4048 Moda: 22 Sign ['22', 'C1']\n"
     ]
    }
   ],
   "source": [
    "signs = []\n",
    "for image_path in images_test_path:\n",
    "    image_test = get_normalized_image(image_path)\n",
    "    image_tiles = get_tiles(image_test, IMG_SHAPE, 1)\n",
    "    signs_aux = []\n",
    "    for tile in image_tiles:\n",
    "        np_tile = np.expand_dims(tile, axis=0)\n",
    "        result = model_detector.predict_classes(np_tile)\n",
    "        if result == 1:\n",
    "            result_sign = model_classificator.predict_classes(np_tile)\n",
    "            signs_aux.append(result_sign[0])\n",
    "    print(\"Tiles: {} - valid tiles: {} Moda: {} Sign {}\".format(len(image_tiles), len(signs_aux), mode(signs_aux), titles[mode(signs_aux)]))\n",
    "    signs.append(signs_aux)"
   ]
  },
  {
   "cell_type": "code",
   "execution_count": null,
   "metadata": {},
   "outputs": [],
   "source": []
  }
 ],
 "metadata": {
  "kernelspec": {
   "display_name": "Python 3",
   "language": "python",
   "name": "python3"
  },
  "language_info": {
   "codemirror_mode": {
    "name": "ipython",
    "version": 3
   },
   "file_extension": ".py",
   "mimetype": "text/x-python",
   "name": "python",
   "nbconvert_exporter": "python",
   "pygments_lexer": "ipython3",
   "version": "3.6.5"
  }
 },
 "nbformat": 4,
 "nbformat_minor": 2
}
