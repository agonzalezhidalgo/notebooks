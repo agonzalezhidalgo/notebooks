{
 "cells": [
  {
   "cell_type": "markdown",
   "metadata": {},
   "source": [
    "# Reconocimiento de señales de tráfico\n",
    "### Máster Universitario en Ingeniería computacional y matemática - Área de inteligencia artificial\n",
    "### Antonio González Hidalgo (agonzalezhidalgo@uoc.edu)\n",
    "\n",
    "Librería estándar con funciones y métodos usandos a lo largo del TFM"
   ]
  },
  {
   "cell_type": "code",
   "execution_count": 2,
   "metadata": {},
   "outputs": [],
   "source": [
    "# https://docs.python.org/3/library/os.html\n",
    "import os\n",
    "\n",
    "# http://scikit-image.org/docs/stable/api/api.html\n",
    "import skimage\n",
    "\n",
    "# https://docs.scipy.org/doc/numpy/reference/\n",
    "import numpy as np\n",
    "\n",
    "# https://docs.python.org/3/library/csv.html\n",
    "import csv\n",
    "\n",
    "# https://matplotlib.org/api/index.html\n",
    "import matplotlib\n",
    "\n",
    "# https://matplotlib.org/api/_as_gen/matplotlib.pyplot.html#module-matplotlib.pyplot\n",
    "import matplotlib.pyplot as plt"
   ]
  },
  {
   "cell_type": "markdown",
   "metadata": {},
   "source": [
    "## Métodos privados"
   ]
  },
  {
   "cell_type": "code",
   "execution_count": 3,
   "metadata": {},
   "outputs": [],
   "source": [
    "# Devuelve una colección de directorios de la ruta\n",
    "def __get_directories(data_dir):\n",
    "    \n",
    "    directories = []\n",
    "    \n",
    "    if os.path.exists(data_dir):\n",
    "        \n",
    "        #Buscamos todos los directorios de la ruta\n",
    "        for d in os.listdir(data_dir):\n",
    "            if os.path.isdir(os.path.join(data_dir, d)):\n",
    "                directories.append(d)\n",
    "                \n",
    "    else:\n",
    "        print(\"path doesn't exists\")\n",
    "    return directories"
   ]
  },
  {
   "cell_type": "code",
   "execution_count": 4,
   "metadata": {},
   "outputs": [],
   "source": [
    "# Obtenemos el índice inicial y final de una label específica\n",
    "# - label: índice de la label que se quiere buscar.\n",
    "# - source: lista de la relación de etiquetas.\n",
    "\n",
    "def __get_start_end(label, source):\n",
    "\n",
    "    start = 0\n",
    "    end = 0\n",
    "    \n",
    "    try:        \n",
    "        start = source.index(label)\n",
    "        end = start + source.count(label)\n",
    "\n",
    "    except:\n",
    "        print(\"label doesn't exist\")\n",
    "\n",
    "    return start, end"
   ]
  },
  {
   "cell_type": "code",
   "execution_count": null,
   "metadata": {},
   "outputs": [],
   "source": [
    "# Devuelve las imagenes y etiquetas de una carpeta especifíca\n",
    "def __read_images_labels_from_dir(directory, images, labels, shape, as_gray, get_label_from_dir):\n",
    "    \n",
    "    #Buscamos fotos en el directorio\n",
    "    for f in os.listdir(directory):\n",
    "        # Cargamos archivos con extension .ppm \n",
    "        # Obviamos el color y lo cargamos como escala de grises y normalizamos el tamaño\n",
    "        if f.endswith(\".ppm\"):\n",
    "            image = load_image(os.path.join(directory, f), shape, as_gray)\n",
    "            images.append(image)\n",
    "            if get_label_from_dir:\n",
    "                labels.append(int(os.path.basename(directory)))\n",
    "    \n",
    "    return images, labels"
   ]
  },
  {
   "cell_type": "markdown",
   "metadata": {},
   "source": [
    "## Métodos públicos"
   ]
  },
  {
   "cell_type": "code",
   "execution_count": 5,
   "metadata": {},
   "outputs": [],
   "source": [
    "# Devuelve una imagen\n",
    "# - path: ruta de la imagen.\n",
    "# - size: dimensión con la que se cargará la imagen.\n",
    "# - as_gray: True para cargar la imagen en escala de grises.\n",
    "\n",
    "def load_image(path, size, as_gray):\n",
    "    aux = skimage.data.imread(path, as_gray = as_gray)\n",
    "    return skimage.transform.resize(aux, size, mode='constant')"
   ]
  },
  {
   "cell_type": "code",
   "execution_count": 6,
   "metadata": {},
   "outputs": [],
   "source": [
    "# Devuelve una lista con los datos del fichero csv.\n",
    "# - path: ruta hasta el fichero csv.\n",
    "# - delimeter: Carácter delimitador de campos\n",
    "\n",
    "def read_csv(path, delimiter):\n",
    "    file = open(path)\n",
    "    title_csv = csv.reader(file, delimiter = delimiter)\n",
    "    return list(title_csv)"
   ]
  },
  {
   "cell_type": "code",
   "execution_count": 7,
   "metadata": {},
   "outputs": [],
   "source": [
    "# Devuelve una colección con las imágenes y los labels de la ruta\n",
    "# -datadir: path donde se encuentran la colección de imágenes.\n",
    "# -shape: Dimensiones con las que se cargarán las imágenes.\n",
    "# -as_gray: Indica si la imagen se cargará en escala de grises.\n",
    "# -get_label_from_dir: (defecto True) específica si la categoría se lee del propio directorio\n",
    "def readDataset(data_dir, shape, as_gray, get_label_from_dir = True):\n",
    "    images = []\n",
    "    labels = []\n",
    "    directories = __get_directories(data_dir)\n",
    "    \n",
    "    images, labels = __read_images_labels_from_dir(data_dir, images, labels, shape, as_gray, get_label_from_dir)\n",
    "    \n",
    "    for d in directories:\n",
    "                \n",
    "        #Buscamos fotos en el directorio\n",
    "        images_dir = os.path.join(data_dir, d)\n",
    "        images, labels = __read_images_labels_from_dir(images_dir, images, labels, shape, as_gray, get_label_from_dir)\n",
    "       \n",
    "    return images, labels"
   ]
  },
  {
   "cell_type": "code",
   "execution_count": 8,
   "metadata": {},
   "outputs": [],
   "source": [
    "# Imprime los tamaños de las colecciones\n",
    "# - images: lista de imágenes precargadas.\n",
    "# - labels: relación de las imágenes con las categorías a las que pertenecen.\n",
    "# - np_images: np.array con las imágenes precargadas.\n",
    "# - np_labels: np.array con las categorías precargadas.\n",
    "# - environment: string identificativo del entorno.\n",
    "\n",
    "def print_size_dataset(images, labels, np_images, np_labels, environment):\n",
    "    print(\"Total images (\" + environment + \"): \", len(images))\n",
    "    print(\"Total labels (\" + environment + \"): \", len(set(labels)))\n",
    "    print(\"Images shape: \", np_images.shape)\n",
    "    print(\"Labels shape: \", np_labels.shape)"
   ]
  },
  {
   "cell_type": "code",
   "execution_count": 9,
   "metadata": {},
   "outputs": [],
   "source": [
    "# Imprime una matriz 32x32 con los diferentes tipos de señales que\n",
    "# se van a clasificar. Muestra la primera imagen de cada categoría.\n",
    "# - images: lista de imágenes precargadas.\n",
    "# - labels: relación de las imágenes con las categorías a las que pertenecen.\n",
    "# - titles: lista con los nombres de las categorías.\n",
    "\n",
    "def print_summary_dataset(images, labels, titles):\n",
    "    \n",
    "    #Quitamos los repetidos a los labels\n",
    "    unique_labels = set(labels)\n",
    "    \n",
    "    plt.figure(figsize=(32, 32))\n",
    "    i = 1\n",
    "    \n",
    "    for label in unique_labels:\n",
    "        \n",
    "        #Obtenemos la primera imagén de cada label\n",
    "        image = images[labels.index(label)]\n",
    "        plt.subplot(8, 8, i)\n",
    "        plt.axis('off')\n",
    "        plt.title(titles[i-1][1])\n",
    "        i += 1\n",
    "        _ = plt.imshow(image)\n",
    "        \n",
    "    plt.show()"
   ]
  },
  {
   "cell_type": "code",
   "execution_count": 10,
   "metadata": {},
   "outputs": [],
   "source": [
    "# Imprime todas las imágenes de una label especifica\n",
    "# - label: índice de la label que se quiere buscar.\n",
    "# - images: lista de imágenes precargadas.\n",
    "# - source: lista de la relación de etiquetas.\n",
    "# - titles: lista con las diferentes categorías de labels.\n",
    "\n",
    "def print_signals(label, images, source, titles):\n",
    "    \n",
    "    start, end = __get_start_end(label, source)\n",
    "    \n",
    "    if start < end:\n",
    "        rows = (end - start) / 8\n",
    "\n",
    "        print(\"Signal: \", titles[label][1])\n",
    "        plt.figure(figsize=(10, 10))\n",
    "        i = 1\n",
    "\n",
    "        for image in images[start:end]:\n",
    "            plt.subplot(rows + 1, 8, i)\n",
    "            plt.axis('off')\n",
    "            i += 1\n",
    "            plt.imshow(image)\n",
    "\n",
    "        plt.show()"
   ]
  },
  {
   "cell_type": "code",
   "execution_count": 1,
   "metadata": {},
   "outputs": [],
   "source": [
    "# Imprime los atributos de las imágenes de una label especifica.\n",
    "# - label: índice de la label que se quiere buscar.\n",
    "# - images: lista de imágenes precargadas.\n",
    "# - source: lista de la relación de etiquetas.\n",
    "# - titles: lista con las diferentes categorías de labels.\n",
    "\n",
    "def print_signals_attributes(label, images, source, titles):\n",
    "    \n",
    "    start, end = __get_start_end(label, source)\n",
    "    \n",
    "    if start < end:\n",
    "        print(\"Signal: \", titles[label][1])\n",
    "        for image in images[start:end]:\n",
    "            print(\"shape: \", image.shape, \"\\tmin:\", image.min(), \"\\tmax: \", image.max())"
   ]
  },
  {
   "cell_type": "code",
   "execution_count": null,
   "metadata": {},
   "outputs": [],
   "source": [
    "# Devuelve una lista con las categorías de las imágenes de prueba leídas del fichero csv.\n",
    "# - csv: fichero csv\n",
    "# - class_column: número de columna que contiene las clases.\n",
    "# - first_is_header: Indica si la primera fila es una cabecerá.\n",
    "\n",
    "def get_class_id_array(csv, class_column, first_is_header = True):\n",
    "    labels = []\n",
    "    for row in csv:\n",
    "        if not first_is_header:\n",
    "            labels.append(int(row[class_column]))\n",
    "        else:\n",
    "            first_is_header = False\n",
    "    \n",
    "    return labels"
   ]
  },
  {
   "cell_type": "code",
   "execution_count": null,
   "metadata": {},
   "outputs": [],
   "source": [
    "# Devuelve un NP-Array con las images cargadas a un tamaño específico.\n",
    "def get_array_images_test(images, size):\n",
    "    images_test = []\n",
    "    for image_path in images:\n",
    "        images_test.append(load_image(image_path, size, False))\n",
    "    return np.array(images_test)"
   ]
  }
 ],
 "metadata": {
  "kernelspec": {
   "display_name": "Python 3",
   "language": "python",
   "name": "python3"
  },
  "language_info": {
   "codemirror_mode": {
    "name": "ipython",
    "version": 3
   },
   "file_extension": ".py",
   "mimetype": "text/x-python",
   "name": "python",
   "nbconvert_exporter": "python",
   "pygments_lexer": "ipython3",
   "version": "3.6.5"
  }
 },
 "nbformat": 4,
 "nbformat_minor": 2
}
